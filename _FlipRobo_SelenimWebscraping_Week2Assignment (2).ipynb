{
 "cells": [
  {
   "cell_type": "markdown",
   "metadata": {},
   "source": [
    "Q1) Python program to scrape data for “Data Analyst” Job position in \n",
    "“Bangalore” location. You have to scrape the job-title, job-location, company_name,\n",
    "experience_required. You have to scrape first 10 jobs data."
   ]
  },
  {
   "cell_type": "markdown",
   "metadata": {},
   "source": [
    "# Solution 1- Python program to scrape data for “Data Analyst” Job position in Banglore location"
   ]
  },
  {
   "cell_type": "markdown",
   "metadata": {},
   "source": [
    "# INSTALLING AND IMPORTING REQUIRES LIBRARIES"
   ]
  },
  {
   "cell_type": "code",
   "execution_count": 34,
   "metadata": {},
   "outputs": [
    {
     "name": "stdout",
     "output_type": "stream",
     "text": [
      "Requirement already satisfied: selenium in c:\\users\\femina\\anaconda3\\lib\\site-packages (3.141.0)\n",
      "Requirement already satisfied: urllib3 in c:\\users\\femina\\anaconda3\\lib\\site-packages (from selenium) (1.25.11)\n"
     ]
    }
   ],
   "source": [
    "#Let's first install the selenium library\n",
    "!pip install selenium\n"
   ]
  },
  {
   "cell_type": "code",
   "execution_count": 35,
   "metadata": {},
   "outputs": [],
   "source": [
    "#Importing al the required Libraries\n",
    "\n",
    "import selenium\n",
    "import pandas as pd\n",
    "from selenium import webdriver"
   ]
  },
  {
   "cell_type": "code",
   "execution_count": 36,
   "metadata": {},
   "outputs": [],
   "source": [
    "#Lets first connect to the webdriver\n",
    "driver= webdriver.Chrome( r\"C:\\Users\\Femina\\Downloads\\chromedriver_win32\\chromedriver.exe \")"
   ]
  },
  {
   "cell_type": "code",
   "execution_count": 37,
   "metadata": {},
   "outputs": [],
   "source": [
    "#Lets first connect to the webdriver\n",
    "driver= webdriver.Chrome( \"chromedriver.exe \")"
   ]
  },
  {
   "cell_type": "code",
   "execution_count": 199,
   "metadata": {},
   "outputs": [],
   "source": [
    "#For scraping data from naukri.com\n",
    "url='https://www.naukri.com/'\n",
    "driver.get(url)"
   ]
  },
  {
   "cell_type": "markdown",
   "metadata": {},
   "source": [
    "#Going to scrape data for Data Analyst on Bangalore Location"
   ]
  },
  {
   "cell_type": "code",
   "execution_count": 200,
   "metadata": {},
   "outputs": [
    {
     "data": {
      "text/plain": [
       "<selenium.webdriver.remote.webelement.WebElement (session=\"c7109d1e4c15d9d4c1a37f1626b890a2\", element=\"1152afa3-0389-410f-a404-437690da81cd\")>"
      ]
     },
     "execution_count": 200,
     "metadata": {},
     "output_type": "execute_result"
    }
   ],
   "source": [
    "#By using id function going to extract the web element\n",
    "search_job=driver.find_element_by_id('qsb-keyword-sugg')\n",
    "search_job"
   ]
  },
  {
   "cell_type": "code",
   "execution_count": 201,
   "metadata": {},
   "outputs": [],
   "source": [
    "#Now going to write Data Analyst over search engine of naukri.com\n",
    "search_job.send_keys(\"Data Analyst\")"
   ]
  },
  {
   "cell_type": "code",
   "execution_count": 202,
   "metadata": {},
   "outputs": [],
   "source": [
    "#finding the web element for job location bar using id function\n",
    "search_loc=driver.find_element_by_id(\"qsb-location-sugg\")\n",
    "search_loc.send_keys(\"Bangalore\")"
   ]
  },
  {
   "cell_type": "code",
   "execution_count": 203,
   "metadata": {},
   "outputs": [
    {
     "data": {
      "text/plain": [
       "<selenium.webdriver.remote.webelement.WebElement (session=\"c7109d1e4c15d9d4c1a37f1626b890a2\", element=\"db8db192-fc16-4103-a18a-c5e1f2339aca\")>"
      ]
     },
     "execution_count": 203,
     "metadata": {},
     "output_type": "execute_result"
    }
   ],
   "source": [
    "#Now we have to do click search button using xpath function to get the web element\n",
    "search_btn=driver.find_element_by_xpath(\"//button[@class='btn']\")\n",
    "search_btn"
   ]
  },
  {
   "cell_type": "code",
   "execution_count": 204,
   "metadata": {},
   "outputs": [],
   "source": [
    "#clicking on search button\n",
    "search_btn.click()\n",
    "#once I run it i will be on the job opening page"
   ]
  },
  {
   "cell_type": "code",
   "execution_count": 205,
   "metadata": {},
   "outputs": [
    {
     "data": {
      "text/plain": [
       "[<selenium.webdriver.remote.webelement.WebElement (session=\"c7109d1e4c15d9d4c1a37f1626b890a2\", element=\"365cad86-e932-4864-9fea-d17a7423b901\")>,\n",
       " <selenium.webdriver.remote.webelement.WebElement (session=\"c7109d1e4c15d9d4c1a37f1626b890a2\", element=\"27bef38d-7bcc-4ea2-ae81-badb5aca55de\")>,\n",
       " <selenium.webdriver.remote.webelement.WebElement (session=\"c7109d1e4c15d9d4c1a37f1626b890a2\", element=\"2305ef32-adec-4d10-ba04-b96da87e0a18\")>,\n",
       " <selenium.webdriver.remote.webelement.WebElement (session=\"c7109d1e4c15d9d4c1a37f1626b890a2\", element=\"0b4594a5-ee07-4011-ab25-8d3348e0084b\")>,\n",
       " <selenium.webdriver.remote.webelement.WebElement (session=\"c7109d1e4c15d9d4c1a37f1626b890a2\", element=\"a1c85132-9925-4e6d-9d66-789bdf51573c\")>,\n",
       " <selenium.webdriver.remote.webelement.WebElement (session=\"c7109d1e4c15d9d4c1a37f1626b890a2\", element=\"fc675165-077d-4200-82ba-f2b4daf075aa\")>,\n",
       " <selenium.webdriver.remote.webelement.WebElement (session=\"c7109d1e4c15d9d4c1a37f1626b890a2\", element=\"6ad59378-9de7-445b-929a-fe71a29bb723\")>,\n",
       " <selenium.webdriver.remote.webelement.WebElement (session=\"c7109d1e4c15d9d4c1a37f1626b890a2\", element=\"8a2a333d-e4e1-483f-945b-f6456e84a259\")>,\n",
       " <selenium.webdriver.remote.webelement.WebElement (session=\"c7109d1e4c15d9d4c1a37f1626b890a2\", element=\"8454ae7b-0d73-4b5c-af9b-3a49cfc3f7c7\")>,\n",
       " <selenium.webdriver.remote.webelement.WebElement (session=\"c7109d1e4c15d9d4c1a37f1626b890a2\", element=\"be7f5a24-6e17-4ff1-bac5-e2864f9306d3\")>,\n",
       " <selenium.webdriver.remote.webelement.WebElement (session=\"c7109d1e4c15d9d4c1a37f1626b890a2\", element=\"78477cd2-7ecf-47d1-9c51-aac72da6781e\")>,\n",
       " <selenium.webdriver.remote.webelement.WebElement (session=\"c7109d1e4c15d9d4c1a37f1626b890a2\", element=\"60adf1a7-ef10-420b-99c7-6cfb71454e4b\")>,\n",
       " <selenium.webdriver.remote.webelement.WebElement (session=\"c7109d1e4c15d9d4c1a37f1626b890a2\", element=\"8172ba6c-0848-4995-a8ab-e964458182a1\")>,\n",
       " <selenium.webdriver.remote.webelement.WebElement (session=\"c7109d1e4c15d9d4c1a37f1626b890a2\", element=\"a8e5dfcf-04c3-4cad-a4f6-61837403495c\")>,\n",
       " <selenium.webdriver.remote.webelement.WebElement (session=\"c7109d1e4c15d9d4c1a37f1626b890a2\", element=\"de924222-2c9d-4ea2-8bc8-7cb5a98fa93c\")>,\n",
       " <selenium.webdriver.remote.webelement.WebElement (session=\"c7109d1e4c15d9d4c1a37f1626b890a2\", element=\"ae3d2891-bd76-45e3-a1b1-280d955a5f2d\")>,\n",
       " <selenium.webdriver.remote.webelement.WebElement (session=\"c7109d1e4c15d9d4c1a37f1626b890a2\", element=\"709eb722-7ceb-40b1-9719-069958907a79\")>,\n",
       " <selenium.webdriver.remote.webelement.WebElement (session=\"c7109d1e4c15d9d4c1a37f1626b890a2\", element=\"39fa4e87-6ab4-4980-8b9a-c370c4399585\")>,\n",
       " <selenium.webdriver.remote.webelement.WebElement (session=\"c7109d1e4c15d9d4c1a37f1626b890a2\", element=\"dd3eb5e7-fae1-403f-9c23-7e6f33a989da\")>,\n",
       " <selenium.webdriver.remote.webelement.WebElement (session=\"c7109d1e4c15d9d4c1a37f1626b890a2\", element=\"b5e3a2aa-f99b-4e57-8f69-a4ce14e1dc9e\")>]"
      ]
     },
     "execution_count": 205,
     "metadata": {},
     "output_type": "execute_result"
    }
   ],
   "source": [
    "#Now extracting all the tags having the job titles\n",
    "#And scrape the data for the first 10 jobs results you get.\n",
    "title_tags=driver.find_elements_by_xpath(\"//a[@class='title fw500 ellipsis']\")\n",
    "title_tags\n",
    "\n"
   ]
  },
  {
   "cell_type": "code",
   "execution_count": 206,
   "metadata": {},
   "outputs": [
    {
     "data": {
      "text/plain": [
       "['Senior Specialist - Data Analyst',\n",
       " 'Business/Data Analyst - SSE/LA',\n",
       " 'Business Data Analyst II',\n",
       " 'Data Analyst',\n",
       " 'Business Data Analyst',\n",
       " 'Business Data Analyst',\n",
       " 'Data Analyst/Business Analyst-Gurgaon/Bangalore/Mumbai (only Females)',\n",
       " 'Senior Data Analyst',\n",
       " 'Data Analyst',\n",
       " 'Data Analyst',\n",
       " 'Data Analyst',\n",
       " 'Data/Business Analyst',\n",
       " 'Senior Data Analyst',\n",
       " 'Senior Data Analyst - SQL/Tableau/Redshift',\n",
       " 'Marketing Data Analyst',\n",
       " 'Data Analyst',\n",
       " 'Data Analyst',\n",
       " 'Data Analyst',\n",
       " 'Data Analyst',\n",
       " 'Data Analyst']"
      ]
     },
     "execution_count": 206,
     "metadata": {},
     "output_type": "execute_result"
    }
   ],
   "source": [
    "#Now we will extract the text from these web elements one by one by looping over these.\n",
    "#Got the job titles\n",
    "job_titles=[]\n",
    "for i in title_tags:\n",
    "     job_titles.append(i.text) \n",
    "job_titles\n",
    "\n"
   ]
  },
  {
   "cell_type": "code",
   "execution_count": 207,
   "metadata": {},
   "outputs": [
    {
     "data": {
      "text/plain": [
       "[<selenium.webdriver.remote.webelement.WebElement (session=\"c7109d1e4c15d9d4c1a37f1626b890a2\", element=\"0c366c40-4da5-44f4-b6e1-b3eb665d7b98\")>,\n",
       " <selenium.webdriver.remote.webelement.WebElement (session=\"c7109d1e4c15d9d4c1a37f1626b890a2\", element=\"220d0ad1-163f-4492-9350-06d453fd8d18\")>,\n",
       " <selenium.webdriver.remote.webelement.WebElement (session=\"c7109d1e4c15d9d4c1a37f1626b890a2\", element=\"f56dfe2b-4cd0-44eb-8444-708ed18c9f19\")>,\n",
       " <selenium.webdriver.remote.webelement.WebElement (session=\"c7109d1e4c15d9d4c1a37f1626b890a2\", element=\"c5cfa7d6-4970-4d90-a178-2bb7c7d2dfeb\")>,\n",
       " <selenium.webdriver.remote.webelement.WebElement (session=\"c7109d1e4c15d9d4c1a37f1626b890a2\", element=\"95ac62ff-28e7-4d5c-8de0-22f08c4ad1ca\")>,\n",
       " <selenium.webdriver.remote.webelement.WebElement (session=\"c7109d1e4c15d9d4c1a37f1626b890a2\", element=\"d55c926c-a67c-4569-b0c2-8b39c7d394cb\")>,\n",
       " <selenium.webdriver.remote.webelement.WebElement (session=\"c7109d1e4c15d9d4c1a37f1626b890a2\", element=\"db0c8bda-6138-4a92-b083-c2a96e83caee\")>,\n",
       " <selenium.webdriver.remote.webelement.WebElement (session=\"c7109d1e4c15d9d4c1a37f1626b890a2\", element=\"c8b7f5f7-46b0-4af0-90a3-5dca7f5d677b\")>,\n",
       " <selenium.webdriver.remote.webelement.WebElement (session=\"c7109d1e4c15d9d4c1a37f1626b890a2\", element=\"5b1f9c4f-7dc5-4dd6-9fc6-5b84ae23677e\")>,\n",
       " <selenium.webdriver.remote.webelement.WebElement (session=\"c7109d1e4c15d9d4c1a37f1626b890a2\", element=\"816a9648-4b61-47d8-92a8-95c45c3e6852\")>,\n",
       " <selenium.webdriver.remote.webelement.WebElement (session=\"c7109d1e4c15d9d4c1a37f1626b890a2\", element=\"01de5957-df76-4b2f-9356-4097d2a6e218\")>,\n",
       " <selenium.webdriver.remote.webelement.WebElement (session=\"c7109d1e4c15d9d4c1a37f1626b890a2\", element=\"09de6881-55d0-4a91-9d62-12c7321f9a7e\")>,\n",
       " <selenium.webdriver.remote.webelement.WebElement (session=\"c7109d1e4c15d9d4c1a37f1626b890a2\", element=\"d290d51c-ffad-4fc7-8354-e9d1a8f66391\")>,\n",
       " <selenium.webdriver.remote.webelement.WebElement (session=\"c7109d1e4c15d9d4c1a37f1626b890a2\", element=\"6bfbbb74-9be0-4300-a441-25f2b8fbb22c\")>,\n",
       " <selenium.webdriver.remote.webelement.WebElement (session=\"c7109d1e4c15d9d4c1a37f1626b890a2\", element=\"0ad1678b-03fd-4918-bbe6-9dd26d6b1f31\")>,\n",
       " <selenium.webdriver.remote.webelement.WebElement (session=\"c7109d1e4c15d9d4c1a37f1626b890a2\", element=\"fa9396f7-0759-43bb-aacb-6e3d0e328047\")>,\n",
       " <selenium.webdriver.remote.webelement.WebElement (session=\"c7109d1e4c15d9d4c1a37f1626b890a2\", element=\"faf5d99b-9780-450d-b194-4d8f42050304\")>,\n",
       " <selenium.webdriver.remote.webelement.WebElement (session=\"c7109d1e4c15d9d4c1a37f1626b890a2\", element=\"f7cf4b80-5f5c-43d2-aab6-36677e7c37ea\")>,\n",
       " <selenium.webdriver.remote.webelement.WebElement (session=\"c7109d1e4c15d9d4c1a37f1626b890a2\", element=\"40a4845c-8b10-482f-beea-d6a2b712c7bc\")>,\n",
       " <selenium.webdriver.remote.webelement.WebElement (session=\"c7109d1e4c15d9d4c1a37f1626b890a2\", element=\"f36eb71e-a573-41ed-ad83-be9acf0ff965\")>]"
      ]
     },
     "execution_count": 207,
     "metadata": {},
     "output_type": "execute_result"
    }
   ],
   "source": [
    "#Extracting all the html tags where we have the location of the job data\n",
    "location_tags=driver.find_elements_by_xpath(\"//li[@class='fleft grey-text br2 placeHolderLi location']//span[1]\")\n",
    "location_tags"
   ]
  },
  {
   "cell_type": "code",
   "execution_count": 208,
   "metadata": {},
   "outputs": [
    {
     "data": {
      "text/plain": [
       "['Bangalore/Bengaluru',\n",
       " 'Bangalore/Bengaluru',\n",
       " 'Bangalore/Bengaluru',\n",
       " 'Bangalore/Bengaluru(Ulsoor)',\n",
       " 'Bangalore/Bengaluru',\n",
       " 'Bangalore/Bengaluru',\n",
       " 'Gurgaon/Gurugram, Bangalore/Bengaluru, Mumbai (All Areas)',\n",
       " 'Bangalore/Bengaluru',\n",
       " 'Bangalore/Bengaluru',\n",
       " 'Bangalore/Bengaluru',\n",
       " 'Bangalore/Bengaluru',\n",
       " 'Bangalore/Bengaluru',\n",
       " 'Bangalore/Bengaluru(2nd Phase JP Nagar)',\n",
       " 'Noida, Mumbai, Indore, Hyderabad/Secunderabad, Pune, Chennai, Bangalore/Bengaluru',\n",
       " 'Bangalore/Bengaluru',\n",
       " 'Bangalore/Bengaluru',\n",
       " 'Bangalore/Bengaluru',\n",
       " 'Bangalore/Bengaluru',\n",
       " 'Bangalore/Bengaluru',\n",
       " 'Bangalore/Bengaluru']"
      ]
     },
     "execution_count": 208,
     "metadata": {},
     "output_type": "execute_result"
    }
   ],
   "source": [
    "#Extracting text from the web elements\n",
    "locations_list=[]\n",
    "for i in location_tags:\n",
    "    locations_list.append(i.text)\n",
    "locations_list"
   ]
  },
  {
   "cell_type": "code",
   "execution_count": 209,
   "metadata": {},
   "outputs": [
    {
     "data": {
      "text/plain": [
       "[<selenium.webdriver.remote.webelement.WebElement (session=\"c7109d1e4c15d9d4c1a37f1626b890a2\", element=\"5d7e0e11-3119-4ec3-b7d6-c4765482aac0\")>,\n",
       " <selenium.webdriver.remote.webelement.WebElement (session=\"c7109d1e4c15d9d4c1a37f1626b890a2\", element=\"a7291308-8779-4cb6-80d5-1f99b038a637\")>,\n",
       " <selenium.webdriver.remote.webelement.WebElement (session=\"c7109d1e4c15d9d4c1a37f1626b890a2\", element=\"4f6e1011-becb-4a9b-b30e-289c5910b89b\")>,\n",
       " <selenium.webdriver.remote.webelement.WebElement (session=\"c7109d1e4c15d9d4c1a37f1626b890a2\", element=\"86b92dd1-44ac-4c77-9ea6-51f5dc47bc4b\")>,\n",
       " <selenium.webdriver.remote.webelement.WebElement (session=\"c7109d1e4c15d9d4c1a37f1626b890a2\", element=\"2df5e7cf-917f-4f58-94b3-90104413c2e0\")>,\n",
       " <selenium.webdriver.remote.webelement.WebElement (session=\"c7109d1e4c15d9d4c1a37f1626b890a2\", element=\"b2424f6b-47e2-4ca7-a8f1-2dd771e3bb44\")>,\n",
       " <selenium.webdriver.remote.webelement.WebElement (session=\"c7109d1e4c15d9d4c1a37f1626b890a2\", element=\"fe39583a-82af-43e3-a996-6db5943b9cb4\")>,\n",
       " <selenium.webdriver.remote.webelement.WebElement (session=\"c7109d1e4c15d9d4c1a37f1626b890a2\", element=\"5042a1c1-b948-40e2-9ee9-009d84b72945\")>,\n",
       " <selenium.webdriver.remote.webelement.WebElement (session=\"c7109d1e4c15d9d4c1a37f1626b890a2\", element=\"7832c239-98f2-4a35-958b-0e0da7cae78a\")>,\n",
       " <selenium.webdriver.remote.webelement.WebElement (session=\"c7109d1e4c15d9d4c1a37f1626b890a2\", element=\"63054799-4c3a-400b-be61-69a4f3ec59ed\")>,\n",
       " <selenium.webdriver.remote.webelement.WebElement (session=\"c7109d1e4c15d9d4c1a37f1626b890a2\", element=\"9799ee63-6ad1-4d49-8caf-5ba9b70a06a8\")>,\n",
       " <selenium.webdriver.remote.webelement.WebElement (session=\"c7109d1e4c15d9d4c1a37f1626b890a2\", element=\"5f7e89a4-a0af-4a87-a5da-9f6f4cb0f27f\")>,\n",
       " <selenium.webdriver.remote.webelement.WebElement (session=\"c7109d1e4c15d9d4c1a37f1626b890a2\", element=\"7411c942-f002-4a8d-baef-05799ad8a00e\")>,\n",
       " <selenium.webdriver.remote.webelement.WebElement (session=\"c7109d1e4c15d9d4c1a37f1626b890a2\", element=\"12d54a68-fe1e-4f5e-a840-9ce817cf638b\")>,\n",
       " <selenium.webdriver.remote.webelement.WebElement (session=\"c7109d1e4c15d9d4c1a37f1626b890a2\", element=\"804b00b5-15f7-497f-a9b3-9ef3e425e2dd\")>,\n",
       " <selenium.webdriver.remote.webelement.WebElement (session=\"c7109d1e4c15d9d4c1a37f1626b890a2\", element=\"8612be70-7261-4255-bc34-e7c87dde92e2\")>,\n",
       " <selenium.webdriver.remote.webelement.WebElement (session=\"c7109d1e4c15d9d4c1a37f1626b890a2\", element=\"d8dcc448-1cc7-4e9e-9861-0f06c0d9e25f\")>,\n",
       " <selenium.webdriver.remote.webelement.WebElement (session=\"c7109d1e4c15d9d4c1a37f1626b890a2\", element=\"b2042911-7107-49bb-8bdf-048bd9214a8b\")>,\n",
       " <selenium.webdriver.remote.webelement.WebElement (session=\"c7109d1e4c15d9d4c1a37f1626b890a2\", element=\"ec714319-6a79-4a61-a464-c698cac01c2c\")>,\n",
       " <selenium.webdriver.remote.webelement.WebElement (session=\"c7109d1e4c15d9d4c1a37f1626b890a2\", element=\"4f0e1cd9-f9f9-4eec-996a-49e51d0ffd24\")>]"
      ]
     },
     "execution_count": 209,
     "metadata": {},
     "output_type": "execute_result"
    }
   ],
   "source": [
    "#Extracting all the tags having the company names\n",
    "company_tags=driver.find_elements_by_xpath(\"//a[@class='subTitle ellipsis fleft']\")\n",
    "company_tags"
   ]
  },
  {
   "cell_type": "code",
   "execution_count": 210,
   "metadata": {},
   "outputs": [
    {
     "data": {
      "text/plain": [
       "['Philips India Limited',\n",
       " 'CGI Information Systems and Management Consultants',\n",
       " 'Infobahn Softworld Inc.',\n",
       " 'WEIWO Communication Pvt. Ltd.',\n",
       " 'Trigent Software',\n",
       " 'Trigent Software',\n",
       " 'India Medtronic Pvt. Ltd,.',\n",
       " 'SMEDC SERVICES PRIVATE LIMITED',\n",
       " 'Allegis Services India Pvt. Ltd.',\n",
       " 'Allegis Services India Pvt. Ltd.',\n",
       " 'Enzen Global Solutions Pvt. Ltd',\n",
       " 'CGI Information Systems and Management Consultants',\n",
       " 'Liventus, Inc.',\n",
       " 'Pronto Consulting Services',\n",
       " 'Qlik',\n",
       " 'Gojek Tech',\n",
       " 'GO-JEK India',\n",
       " 'Eli Lilly Services India Private Limited',\n",
       " 'Infobahn Softworld Inc.',\n",
       " 'GCC SERVICES INDIA PRIVATE LIMITED']"
      ]
     },
     "execution_count": 210,
     "metadata": {},
     "output_type": "execute_result"
    }
   ],
   "source": [
    "#Extracting text from these tags\n",
    "company_names=[]\n",
    "for i in company_tags:\n",
    "    company_names.append(i.text)\n",
    "company_names\n"
   ]
  },
  {
   "cell_type": "code",
   "execution_count": 211,
   "metadata": {},
   "outputs": [
    {
     "data": {
      "text/plain": [
       "[<selenium.webdriver.remote.webelement.WebElement (session=\"c7109d1e4c15d9d4c1a37f1626b890a2\", element=\"6444d95f-908a-40ca-a456-e9acb54d1551\")>,\n",
       " <selenium.webdriver.remote.webelement.WebElement (session=\"c7109d1e4c15d9d4c1a37f1626b890a2\", element=\"3ee0e588-9984-4461-a5d2-97372ad4753e\")>,\n",
       " <selenium.webdriver.remote.webelement.WebElement (session=\"c7109d1e4c15d9d4c1a37f1626b890a2\", element=\"3d70fe0e-4bd1-49e9-9c6a-fbd7a59ffd09\")>,\n",
       " <selenium.webdriver.remote.webelement.WebElement (session=\"c7109d1e4c15d9d4c1a37f1626b890a2\", element=\"d1041d7a-813d-4aa9-a680-0e85763cd70b\")>,\n",
       " <selenium.webdriver.remote.webelement.WebElement (session=\"c7109d1e4c15d9d4c1a37f1626b890a2\", element=\"ebcda787-018c-46cf-9354-6441a7a0b611\")>,\n",
       " <selenium.webdriver.remote.webelement.WebElement (session=\"c7109d1e4c15d9d4c1a37f1626b890a2\", element=\"82988b7a-4bf0-4343-aaa7-4aeab5d7ccce\")>,\n",
       " <selenium.webdriver.remote.webelement.WebElement (session=\"c7109d1e4c15d9d4c1a37f1626b890a2\", element=\"79422932-fdd9-4d88-bc31-c404ae8768b3\")>,\n",
       " <selenium.webdriver.remote.webelement.WebElement (session=\"c7109d1e4c15d9d4c1a37f1626b890a2\", element=\"884cc0f7-63db-4eba-9b85-f54e72e00fff\")>,\n",
       " <selenium.webdriver.remote.webelement.WebElement (session=\"c7109d1e4c15d9d4c1a37f1626b890a2\", element=\"e19fbf42-554a-4133-94c8-ab36348da3d3\")>,\n",
       " <selenium.webdriver.remote.webelement.WebElement (session=\"c7109d1e4c15d9d4c1a37f1626b890a2\", element=\"47f10efd-db19-4c12-a3b7-d48ab9db81d7\")>,\n",
       " <selenium.webdriver.remote.webelement.WebElement (session=\"c7109d1e4c15d9d4c1a37f1626b890a2\", element=\"3e0e2d93-a46b-4862-bfdf-e158ebc76a8a\")>,\n",
       " <selenium.webdriver.remote.webelement.WebElement (session=\"c7109d1e4c15d9d4c1a37f1626b890a2\", element=\"078d0c89-5186-4663-9647-959026ce0f97\")>,\n",
       " <selenium.webdriver.remote.webelement.WebElement (session=\"c7109d1e4c15d9d4c1a37f1626b890a2\", element=\"3e45ad86-1b17-408b-8ce6-d0aaed294438\")>,\n",
       " <selenium.webdriver.remote.webelement.WebElement (session=\"c7109d1e4c15d9d4c1a37f1626b890a2\", element=\"afaa7f87-ca10-49b9-9b59-c0ead141b663\")>,\n",
       " <selenium.webdriver.remote.webelement.WebElement (session=\"c7109d1e4c15d9d4c1a37f1626b890a2\", element=\"9a5b88e4-72f2-4e5a-b82f-bde6c2bb86c6\")>,\n",
       " <selenium.webdriver.remote.webelement.WebElement (session=\"c7109d1e4c15d9d4c1a37f1626b890a2\", element=\"b17e2f58-151f-4adb-bf51-af00c0151739\")>,\n",
       " <selenium.webdriver.remote.webelement.WebElement (session=\"c7109d1e4c15d9d4c1a37f1626b890a2\", element=\"8f770a5a-0607-45c8-80a0-9392ed89f565\")>,\n",
       " <selenium.webdriver.remote.webelement.WebElement (session=\"c7109d1e4c15d9d4c1a37f1626b890a2\", element=\"cc0fe323-1638-4e4f-9389-0a26402c15bd\")>,\n",
       " <selenium.webdriver.remote.webelement.WebElement (session=\"c7109d1e4c15d9d4c1a37f1626b890a2\", element=\"253d9973-e5f0-40f1-a96e-d9408118b9e5\")>,\n",
       " <selenium.webdriver.remote.webelement.WebElement (session=\"c7109d1e4c15d9d4c1a37f1626b890a2\", element=\"381889bb-2ff3-4439-81b6-5d82485da782\")>]"
      ]
     },
     "execution_count": 211,
     "metadata": {},
     "output_type": "execute_result"
    }
   ],
   "source": [
    "#Extracting all the html tags where we have the number of experience \n",
    "experience_tags=driver.find_elements_by_xpath(\"//li[@class='fleft grey-text br2 placeHolderLi experience']//span\")\n",
    "experience_tags"
   ]
  },
  {
   "cell_type": "code",
   "execution_count": 212,
   "metadata": {},
   "outputs": [
    {
     "data": {
      "text/plain": [
       "['4-8 Yrs',\n",
       " '2-5 Yrs',\n",
       " '5-8 Yrs',\n",
       " '4-8 Yrs',\n",
       " '3-5 Yrs',\n",
       " '3-5 Yrs',\n",
       " '1-4 Yrs',\n",
       " '5-8 Yrs',\n",
       " '2-5 Yrs',\n",
       " '3-5 Yrs',\n",
       " '6-8 Yrs',\n",
       " '6-10 Yrs',\n",
       " '5-8 Yrs',\n",
       " '6-10 Yrs',\n",
       " '2-7 Yrs',\n",
       " '1-4 Yrs',\n",
       " '3-7 Yrs',\n",
       " '5-10 Yrs',\n",
       " '3-9 Yrs',\n",
       " '5-9 Yrs']"
      ]
     },
     "execution_count": 212,
     "metadata": {},
     "output_type": "execute_result"
    }
   ],
   "source": [
    "#Extracting text from these tags\n",
    "experience_list=[]\n",
    "for i in experience_tags:\n",
    "    experience_list.append(i.text)\n",
    "experience_list"
   ]
  },
  {
   "cell_type": "code",
   "execution_count": 213,
   "metadata": {},
   "outputs": [
    {
     "name": "stdout",
     "output_type": "stream",
     "text": [
      "20 20 20 20\n"
     ]
    }
   ],
   "source": [
    "#printing lengths of texts\n",
    "print(len(job_titles),len(locations_list),len(company_names),len(experience_list))"
   ]
  },
  {
   "cell_type": "markdown",
   "metadata": {},
   "source": [
    "# Data Frame"
   ]
  },
  {
   "cell_type": "code",
   "execution_count": 217,
   "metadata": {},
   "outputs": [],
   "source": [
    "#import pandas as pd\n",
    "Data_Analyst=pd.DataFrame({})\n",
    "Data_Analyst['title']=job_titles\n",
    "Data_Analyst['company']=company_names\n",
    "Data_Analyst['experience_required']=experience_list\n",
    "Data_Analyst['location']=locations_list"
   ]
  },
  {
   "cell_type": "code",
   "execution_count": 215,
   "metadata": {},
   "outputs": [
    {
     "data": {
      "text/html": [
       "<div>\n",
       "<style scoped>\n",
       "    .dataframe tbody tr th:only-of-type {\n",
       "        vertical-align: middle;\n",
       "    }\n",
       "\n",
       "    .dataframe tbody tr th {\n",
       "        vertical-align: top;\n",
       "    }\n",
       "\n",
       "    .dataframe thead th {\n",
       "        text-align: right;\n",
       "    }\n",
       "</style>\n",
       "<table border=\"1\" class=\"dataframe\">\n",
       "  <thead>\n",
       "    <tr style=\"text-align: right;\">\n",
       "      <th></th>\n",
       "      <th>title</th>\n",
       "      <th>company</th>\n",
       "      <th>experience_required</th>\n",
       "      <th>location</th>\n",
       "    </tr>\n",
       "  </thead>\n",
       "  <tbody>\n",
       "    <tr>\n",
       "      <th>0</th>\n",
       "      <td>Senior Specialist - Data Analyst</td>\n",
       "      <td>Philips India Limited</td>\n",
       "      <td>4-8 Yrs</td>\n",
       "      <td>Bangalore/Bengaluru</td>\n",
       "    </tr>\n",
       "    <tr>\n",
       "      <th>1</th>\n",
       "      <td>Business/Data Analyst - SSE/LA</td>\n",
       "      <td>CGI Information Systems and Management Consult...</td>\n",
       "      <td>2-5 Yrs</td>\n",
       "      <td>Bangalore/Bengaluru</td>\n",
       "    </tr>\n",
       "    <tr>\n",
       "      <th>2</th>\n",
       "      <td>Business Data Analyst II</td>\n",
       "      <td>Infobahn Softworld Inc.</td>\n",
       "      <td>5-8 Yrs</td>\n",
       "      <td>Bangalore/Bengaluru</td>\n",
       "    </tr>\n",
       "    <tr>\n",
       "      <th>3</th>\n",
       "      <td>Data Analyst</td>\n",
       "      <td>WEIWO Communication Pvt. Ltd.</td>\n",
       "      <td>4-8 Yrs</td>\n",
       "      <td>Bangalore/Bengaluru(Ulsoor)</td>\n",
       "    </tr>\n",
       "    <tr>\n",
       "      <th>4</th>\n",
       "      <td>Business Data Analyst</td>\n",
       "      <td>Trigent Software</td>\n",
       "      <td>3-5 Yrs</td>\n",
       "      <td>Bangalore/Bengaluru</td>\n",
       "    </tr>\n",
       "    <tr>\n",
       "      <th>5</th>\n",
       "      <td>Business Data Analyst</td>\n",
       "      <td>Trigent Software</td>\n",
       "      <td>3-5 Yrs</td>\n",
       "      <td>Bangalore/Bengaluru</td>\n",
       "    </tr>\n",
       "    <tr>\n",
       "      <th>6</th>\n",
       "      <td>Data Analyst/Business Analyst-Gurgaon/Bangalor...</td>\n",
       "      <td>India Medtronic Pvt. Ltd,.</td>\n",
       "      <td>1-4 Yrs</td>\n",
       "      <td>Gurgaon/Gurugram, Bangalore/Bengaluru, Mumbai ...</td>\n",
       "    </tr>\n",
       "    <tr>\n",
       "      <th>7</th>\n",
       "      <td>Senior Data Analyst</td>\n",
       "      <td>SMEDC SERVICES PRIVATE LIMITED</td>\n",
       "      <td>5-8 Yrs</td>\n",
       "      <td>Bangalore/Bengaluru</td>\n",
       "    </tr>\n",
       "    <tr>\n",
       "      <th>8</th>\n",
       "      <td>Data Analyst</td>\n",
       "      <td>Allegis Services India Pvt. Ltd.</td>\n",
       "      <td>2-5 Yrs</td>\n",
       "      <td>Bangalore/Bengaluru</td>\n",
       "    </tr>\n",
       "    <tr>\n",
       "      <th>9</th>\n",
       "      <td>Data Analyst</td>\n",
       "      <td>Allegis Services India Pvt. Ltd.</td>\n",
       "      <td>3-5 Yrs</td>\n",
       "      <td>Bangalore/Bengaluru</td>\n",
       "    </tr>\n",
       "    <tr>\n",
       "      <th>10</th>\n",
       "      <td>Data Analyst</td>\n",
       "      <td>Enzen Global Solutions Pvt. Ltd</td>\n",
       "      <td>6-8 Yrs</td>\n",
       "      <td>Bangalore/Bengaluru</td>\n",
       "    </tr>\n",
       "    <tr>\n",
       "      <th>11</th>\n",
       "      <td>Data/Business Analyst</td>\n",
       "      <td>CGI Information Systems and Management Consult...</td>\n",
       "      <td>6-10 Yrs</td>\n",
       "      <td>Bangalore/Bengaluru</td>\n",
       "    </tr>\n",
       "    <tr>\n",
       "      <th>12</th>\n",
       "      <td>Senior Data Analyst</td>\n",
       "      <td>Liventus, Inc.</td>\n",
       "      <td>5-8 Yrs</td>\n",
       "      <td>Bangalore/Bengaluru(2nd Phase JP Nagar)</td>\n",
       "    </tr>\n",
       "    <tr>\n",
       "      <th>13</th>\n",
       "      <td>Senior Data Analyst - SQL/Tableau/Redshift</td>\n",
       "      <td>Pronto Consulting Services</td>\n",
       "      <td>6-10 Yrs</td>\n",
       "      <td>Noida, Mumbai, Indore, Hyderabad/Secunderabad,...</td>\n",
       "    </tr>\n",
       "    <tr>\n",
       "      <th>14</th>\n",
       "      <td>Marketing Data Analyst</td>\n",
       "      <td>Qlik</td>\n",
       "      <td>2-7 Yrs</td>\n",
       "      <td>Bangalore/Bengaluru</td>\n",
       "    </tr>\n",
       "    <tr>\n",
       "      <th>15</th>\n",
       "      <td>Data Analyst</td>\n",
       "      <td>Gojek Tech</td>\n",
       "      <td>1-4 Yrs</td>\n",
       "      <td>Bangalore/Bengaluru</td>\n",
       "    </tr>\n",
       "    <tr>\n",
       "      <th>16</th>\n",
       "      <td>Data Analyst</td>\n",
       "      <td>GO-JEK India</td>\n",
       "      <td>3-7 Yrs</td>\n",
       "      <td>Bangalore/Bengaluru</td>\n",
       "    </tr>\n",
       "    <tr>\n",
       "      <th>17</th>\n",
       "      <td>Data Analyst</td>\n",
       "      <td>Eli Lilly Services India Private Limited</td>\n",
       "      <td>5-10 Yrs</td>\n",
       "      <td>Bangalore/Bengaluru</td>\n",
       "    </tr>\n",
       "    <tr>\n",
       "      <th>18</th>\n",
       "      <td>Data Analyst</td>\n",
       "      <td>Infobahn Softworld Inc.</td>\n",
       "      <td>3-9 Yrs</td>\n",
       "      <td>Bangalore/Bengaluru</td>\n",
       "    </tr>\n",
       "    <tr>\n",
       "      <th>19</th>\n",
       "      <td>Data Analyst</td>\n",
       "      <td>GCC SERVICES INDIA PRIVATE LIMITED</td>\n",
       "      <td>5-9 Yrs</td>\n",
       "      <td>Bangalore/Bengaluru</td>\n",
       "    </tr>\n",
       "  </tbody>\n",
       "</table>\n",
       "</div>"
      ],
      "text/plain": [
       "                                                title  \\\n",
       "0                    Senior Specialist - Data Analyst   \n",
       "1                      Business/Data Analyst - SSE/LA   \n",
       "2                            Business Data Analyst II   \n",
       "3                                        Data Analyst   \n",
       "4                               Business Data Analyst   \n",
       "5                               Business Data Analyst   \n",
       "6   Data Analyst/Business Analyst-Gurgaon/Bangalor...   \n",
       "7                                 Senior Data Analyst   \n",
       "8                                        Data Analyst   \n",
       "9                                        Data Analyst   \n",
       "10                                       Data Analyst   \n",
       "11                              Data/Business Analyst   \n",
       "12                                Senior Data Analyst   \n",
       "13         Senior Data Analyst - SQL/Tableau/Redshift   \n",
       "14                             Marketing Data Analyst   \n",
       "15                                       Data Analyst   \n",
       "16                                       Data Analyst   \n",
       "17                                       Data Analyst   \n",
       "18                                       Data Analyst   \n",
       "19                                       Data Analyst   \n",
       "\n",
       "                                              company experience_required  \\\n",
       "0                               Philips India Limited             4-8 Yrs   \n",
       "1   CGI Information Systems and Management Consult...             2-5 Yrs   \n",
       "2                             Infobahn Softworld Inc.             5-8 Yrs   \n",
       "3                       WEIWO Communication Pvt. Ltd.             4-8 Yrs   \n",
       "4                                    Trigent Software             3-5 Yrs   \n",
       "5                                    Trigent Software             3-5 Yrs   \n",
       "6                          India Medtronic Pvt. Ltd,.             1-4 Yrs   \n",
       "7                      SMEDC SERVICES PRIVATE LIMITED             5-8 Yrs   \n",
       "8                    Allegis Services India Pvt. Ltd.             2-5 Yrs   \n",
       "9                    Allegis Services India Pvt. Ltd.             3-5 Yrs   \n",
       "10                    Enzen Global Solutions Pvt. Ltd             6-8 Yrs   \n",
       "11  CGI Information Systems and Management Consult...            6-10 Yrs   \n",
       "12                                     Liventus, Inc.             5-8 Yrs   \n",
       "13                         Pronto Consulting Services            6-10 Yrs   \n",
       "14                                               Qlik             2-7 Yrs   \n",
       "15                                         Gojek Tech             1-4 Yrs   \n",
       "16                                       GO-JEK India             3-7 Yrs   \n",
       "17           Eli Lilly Services India Private Limited            5-10 Yrs   \n",
       "18                            Infobahn Softworld Inc.             3-9 Yrs   \n",
       "19                 GCC SERVICES INDIA PRIVATE LIMITED             5-9 Yrs   \n",
       "\n",
       "                                             location  \n",
       "0                                 Bangalore/Bengaluru  \n",
       "1                                 Bangalore/Bengaluru  \n",
       "2                                 Bangalore/Bengaluru  \n",
       "3                         Bangalore/Bengaluru(Ulsoor)  \n",
       "4                                 Bangalore/Bengaluru  \n",
       "5                                 Bangalore/Bengaluru  \n",
       "6   Gurgaon/Gurugram, Bangalore/Bengaluru, Mumbai ...  \n",
       "7                                 Bangalore/Bengaluru  \n",
       "8                                 Bangalore/Bengaluru  \n",
       "9                                 Bangalore/Bengaluru  \n",
       "10                                Bangalore/Bengaluru  \n",
       "11                                Bangalore/Bengaluru  \n",
       "12            Bangalore/Bengaluru(2nd Phase JP Nagar)  \n",
       "13  Noida, Mumbai, Indore, Hyderabad/Secunderabad,...  \n",
       "14                                Bangalore/Bengaluru  \n",
       "15                                Bangalore/Bengaluru  \n",
       "16                                Bangalore/Bengaluru  \n",
       "17                                Bangalore/Bengaluru  \n",
       "18                                Bangalore/Bengaluru  \n",
       "19                                Bangalore/Bengaluru  "
      ]
     },
     "execution_count": 215,
     "metadata": {},
     "output_type": "execute_result"
    }
   ],
   "source": [
    "Data_Analyst"
   ]
  },
  {
   "cell_type": "code",
   "execution_count": 216,
   "metadata": {},
   "outputs": [
    {
     "data": {
      "text/html": [
       "<div>\n",
       "<style scoped>\n",
       "    .dataframe tbody tr th:only-of-type {\n",
       "        vertical-align: middle;\n",
       "    }\n",
       "\n",
       "    .dataframe tbody tr th {\n",
       "        vertical-align: top;\n",
       "    }\n",
       "\n",
       "    .dataframe thead th {\n",
       "        text-align: right;\n",
       "    }\n",
       "</style>\n",
       "<table border=\"1\" class=\"dataframe\">\n",
       "  <thead>\n",
       "    <tr style=\"text-align: right;\">\n",
       "      <th></th>\n",
       "      <th>title</th>\n",
       "      <th>company</th>\n",
       "      <th>experience_required</th>\n",
       "      <th>location</th>\n",
       "    </tr>\n",
       "  </thead>\n",
       "  <tbody>\n",
       "    <tr>\n",
       "      <th>0</th>\n",
       "      <td>Senior Specialist - Data Analyst</td>\n",
       "      <td>Philips India Limited</td>\n",
       "      <td>4-8 Yrs</td>\n",
       "      <td>Bangalore/Bengaluru</td>\n",
       "    </tr>\n",
       "    <tr>\n",
       "      <th>1</th>\n",
       "      <td>Business/Data Analyst - SSE/LA</td>\n",
       "      <td>CGI Information Systems and Management Consult...</td>\n",
       "      <td>2-5 Yrs</td>\n",
       "      <td>Bangalore/Bengaluru</td>\n",
       "    </tr>\n",
       "    <tr>\n",
       "      <th>2</th>\n",
       "      <td>Business Data Analyst II</td>\n",
       "      <td>Infobahn Softworld Inc.</td>\n",
       "      <td>5-8 Yrs</td>\n",
       "      <td>Bangalore/Bengaluru</td>\n",
       "    </tr>\n",
       "    <tr>\n",
       "      <th>3</th>\n",
       "      <td>Data Analyst</td>\n",
       "      <td>WEIWO Communication Pvt. Ltd.</td>\n",
       "      <td>4-8 Yrs</td>\n",
       "      <td>Bangalore/Bengaluru(Ulsoor)</td>\n",
       "    </tr>\n",
       "    <tr>\n",
       "      <th>4</th>\n",
       "      <td>Business Data Analyst</td>\n",
       "      <td>Trigent Software</td>\n",
       "      <td>3-5 Yrs</td>\n",
       "      <td>Bangalore/Bengaluru</td>\n",
       "    </tr>\n",
       "    <tr>\n",
       "      <th>5</th>\n",
       "      <td>Business Data Analyst</td>\n",
       "      <td>Trigent Software</td>\n",
       "      <td>3-5 Yrs</td>\n",
       "      <td>Bangalore/Bengaluru</td>\n",
       "    </tr>\n",
       "    <tr>\n",
       "      <th>6</th>\n",
       "      <td>Data Analyst/Business Analyst-Gurgaon/Bangalor...</td>\n",
       "      <td>India Medtronic Pvt. Ltd,.</td>\n",
       "      <td>1-4 Yrs</td>\n",
       "      <td>Gurgaon/Gurugram, Bangalore/Bengaluru, Mumbai ...</td>\n",
       "    </tr>\n",
       "    <tr>\n",
       "      <th>7</th>\n",
       "      <td>Senior Data Analyst</td>\n",
       "      <td>SMEDC SERVICES PRIVATE LIMITED</td>\n",
       "      <td>5-8 Yrs</td>\n",
       "      <td>Bangalore/Bengaluru</td>\n",
       "    </tr>\n",
       "    <tr>\n",
       "      <th>8</th>\n",
       "      <td>Data Analyst</td>\n",
       "      <td>Allegis Services India Pvt. Ltd.</td>\n",
       "      <td>2-5 Yrs</td>\n",
       "      <td>Bangalore/Bengaluru</td>\n",
       "    </tr>\n",
       "    <tr>\n",
       "      <th>9</th>\n",
       "      <td>Data Analyst</td>\n",
       "      <td>Allegis Services India Pvt. Ltd.</td>\n",
       "      <td>3-5 Yrs</td>\n",
       "      <td>Bangalore/Bengaluru</td>\n",
       "    </tr>\n",
       "  </tbody>\n",
       "</table>\n",
       "</div>"
      ],
      "text/plain": [
       "                                               title  \\\n",
       "0                   Senior Specialist - Data Analyst   \n",
       "1                     Business/Data Analyst - SSE/LA   \n",
       "2                           Business Data Analyst II   \n",
       "3                                       Data Analyst   \n",
       "4                              Business Data Analyst   \n",
       "5                              Business Data Analyst   \n",
       "6  Data Analyst/Business Analyst-Gurgaon/Bangalor...   \n",
       "7                                Senior Data Analyst   \n",
       "8                                       Data Analyst   \n",
       "9                                       Data Analyst   \n",
       "\n",
       "                                             company experience_required  \\\n",
       "0                              Philips India Limited             4-8 Yrs   \n",
       "1  CGI Information Systems and Management Consult...             2-5 Yrs   \n",
       "2                            Infobahn Softworld Inc.             5-8 Yrs   \n",
       "3                      WEIWO Communication Pvt. Ltd.             4-8 Yrs   \n",
       "4                                   Trigent Software             3-5 Yrs   \n",
       "5                                   Trigent Software             3-5 Yrs   \n",
       "6                         India Medtronic Pvt. Ltd,.             1-4 Yrs   \n",
       "7                     SMEDC SERVICES PRIVATE LIMITED             5-8 Yrs   \n",
       "8                   Allegis Services India Pvt. Ltd.             2-5 Yrs   \n",
       "9                   Allegis Services India Pvt. Ltd.             3-5 Yrs   \n",
       "\n",
       "                                            location  \n",
       "0                                Bangalore/Bengaluru  \n",
       "1                                Bangalore/Bengaluru  \n",
       "2                                Bangalore/Bengaluru  \n",
       "3                        Bangalore/Bengaluru(Ulsoor)  \n",
       "4                                Bangalore/Bengaluru  \n",
       "5                                Bangalore/Bengaluru  \n",
       "6  Gurgaon/Gurugram, Bangalore/Bengaluru, Mumbai ...  \n",
       "7                                Bangalore/Bengaluru  \n",
       "8                                Bangalore/Bengaluru  \n",
       "9                                Bangalore/Bengaluru  "
      ]
     },
     "execution_count": 216,
     "metadata": {},
     "output_type": "execute_result"
    }
   ],
   "source": [
    "df=pd.DataFrame(Data_Analyst)\n",
    "df=df.iloc[0:10]\n",
    "df"
   ]
  },
  {
   "cell_type": "code",
   "execution_count": 248,
   "metadata": {},
   "outputs": [
    {
     "data": {
      "text/html": [
       "<div>\n",
       "<style scoped>\n",
       "    .dataframe tbody tr th:only-of-type {\n",
       "        vertical-align: middle;\n",
       "    }\n",
       "\n",
       "    .dataframe tbody tr th {\n",
       "        vertical-align: top;\n",
       "    }\n",
       "\n",
       "    .dataframe thead th {\n",
       "        text-align: right;\n",
       "    }\n",
       "</style>\n",
       "<table border=\"1\" class=\"dataframe\">\n",
       "  <thead>\n",
       "    <tr style=\"text-align: right;\">\n",
       "      <th></th>\n",
       "      <th>title</th>\n",
       "      <th>company</th>\n",
       "      <th>experience_required</th>\n",
       "      <th>location</th>\n",
       "    </tr>\n",
       "  </thead>\n",
       "  <tbody>\n",
       "    <tr>\n",
       "      <th>0</th>\n",
       "      <td>Senior Specialist - Data Analyst</td>\n",
       "      <td>Philips India Limited</td>\n",
       "      <td>4-8 Yrs</td>\n",
       "      <td>Bangalore/Bengaluru</td>\n",
       "    </tr>\n",
       "    <tr>\n",
       "      <th>1</th>\n",
       "      <td>Business/Data Analyst - SSE/LA</td>\n",
       "      <td>CGI Information Systems and Management Consult...</td>\n",
       "      <td>2-5 Yrs</td>\n",
       "      <td>Bangalore/Bengaluru</td>\n",
       "    </tr>\n",
       "    <tr>\n",
       "      <th>2</th>\n",
       "      <td>Business Data Analyst II</td>\n",
       "      <td>Infobahn Softworld Inc.</td>\n",
       "      <td>5-8 Yrs</td>\n",
       "      <td>Bangalore/Bengaluru</td>\n",
       "    </tr>\n",
       "    <tr>\n",
       "      <th>3</th>\n",
       "      <td>Data Analyst</td>\n",
       "      <td>WEIWO Communication Pvt. Ltd.</td>\n",
       "      <td>4-8 Yrs</td>\n",
       "      <td>Bangalore/Bengaluru(Ulsoor)</td>\n",
       "    </tr>\n",
       "    <tr>\n",
       "      <th>4</th>\n",
       "      <td>Business Data Analyst</td>\n",
       "      <td>Trigent Software</td>\n",
       "      <td>3-5 Yrs</td>\n",
       "      <td>Bangalore/Bengaluru</td>\n",
       "    </tr>\n",
       "    <tr>\n",
       "      <th>5</th>\n",
       "      <td>Business Data Analyst</td>\n",
       "      <td>Trigent Software</td>\n",
       "      <td>3-5 Yrs</td>\n",
       "      <td>Bangalore/Bengaluru</td>\n",
       "    </tr>\n",
       "    <tr>\n",
       "      <th>6</th>\n",
       "      <td>Data Analyst/Business Analyst-Gurgaon/Bangalor...</td>\n",
       "      <td>India Medtronic Pvt. Ltd,.</td>\n",
       "      <td>1-4 Yrs</td>\n",
       "      <td>Gurgaon/Gurugram, Bangalore/Bengaluru, Mumbai ...</td>\n",
       "    </tr>\n",
       "    <tr>\n",
       "      <th>7</th>\n",
       "      <td>Senior Data Analyst</td>\n",
       "      <td>SMEDC SERVICES PRIVATE LIMITED</td>\n",
       "      <td>5-8 Yrs</td>\n",
       "      <td>Bangalore/Bengaluru</td>\n",
       "    </tr>\n",
       "    <tr>\n",
       "      <th>8</th>\n",
       "      <td>Data Analyst</td>\n",
       "      <td>Allegis Services India Pvt. Ltd.</td>\n",
       "      <td>2-5 Yrs</td>\n",
       "      <td>Bangalore/Bengaluru</td>\n",
       "    </tr>\n",
       "    <tr>\n",
       "      <th>9</th>\n",
       "      <td>Data Analyst</td>\n",
       "      <td>Allegis Services India Pvt. Ltd.</td>\n",
       "      <td>3-5 Yrs</td>\n",
       "      <td>Bangalore/Bengaluru</td>\n",
       "    </tr>\n",
       "  </tbody>\n",
       "</table>\n",
       "</div>"
      ],
      "text/plain": [
       "                                               title  \\\n",
       "0                   Senior Specialist - Data Analyst   \n",
       "1                     Business/Data Analyst - SSE/LA   \n",
       "2                           Business Data Analyst II   \n",
       "3                                       Data Analyst   \n",
       "4                              Business Data Analyst   \n",
       "5                              Business Data Analyst   \n",
       "6  Data Analyst/Business Analyst-Gurgaon/Bangalor...   \n",
       "7                                Senior Data Analyst   \n",
       "8                                       Data Analyst   \n",
       "9                                       Data Analyst   \n",
       "\n",
       "                                             company experience_required  \\\n",
       "0                              Philips India Limited             4-8 Yrs   \n",
       "1  CGI Information Systems and Management Consult...             2-5 Yrs   \n",
       "2                            Infobahn Softworld Inc.             5-8 Yrs   \n",
       "3                      WEIWO Communication Pvt. Ltd.             4-8 Yrs   \n",
       "4                                   Trigent Software             3-5 Yrs   \n",
       "5                                   Trigent Software             3-5 Yrs   \n",
       "6                         India Medtronic Pvt. Ltd,.             1-4 Yrs   \n",
       "7                     SMEDC SERVICES PRIVATE LIMITED             5-8 Yrs   \n",
       "8                   Allegis Services India Pvt. Ltd.             2-5 Yrs   \n",
       "9                   Allegis Services India Pvt. Ltd.             3-5 Yrs   \n",
       "\n",
       "                                            location  \n",
       "0                                Bangalore/Bengaluru  \n",
       "1                                Bangalore/Bengaluru  \n",
       "2                                Bangalore/Bengaluru  \n",
       "3                        Bangalore/Bengaluru(Ulsoor)  \n",
       "4                                Bangalore/Bengaluru  \n",
       "5                                Bangalore/Bengaluru  \n",
       "6  Gurgaon/Gurugram, Bangalore/Bengaluru, Mumbai ...  \n",
       "7                                Bangalore/Bengaluru  \n",
       "8                                Bangalore/Bengaluru  \n",
       "9                                Bangalore/Bengaluru  "
      ]
     },
     "execution_count": 248,
     "metadata": {},
     "output_type": "execute_result"
    }
   ],
   "source": [
    "df=pd.DataFrame(Data_Analyst)\n",
    "df=df.iloc[0:10]\n",
    "df"
   ]
  },
  {
   "cell_type": "markdown",
   "metadata": {},
   "source": [
    "# Solution 2- Python program to scrape data for “Data Scientist” Job position in banglore location"
   ]
  },
  {
   "cell_type": "code",
   "execution_count": 2,
   "metadata": {},
   "outputs": [],
   "source": [
    "#importing all the required libraries\n",
    "from selenium import webdriver\n",
    "import os\n",
    "import pandas as pd\n",
    "from time import sleep\n",
    "import time \n",
    "import warnings\n",
    "warnings.filterwarnings(\"ignore\")"
   ]
  },
  {
   "cell_type": "code",
   "execution_count": 43,
   "metadata": {},
   "outputs": [],
   "source": [
    "#Lets first connect to the webdriver\n",
    "driver= webdriver.Chrome( \"chromedriver.exe \")"
   ]
  },
  {
   "cell_type": "code",
   "execution_count": 227,
   "metadata": {},
   "outputs": [],
   "source": [
    "#For scraping data from naukri.com\n",
    "url='https://www.naukri.com/'\n",
    "driver.get(url)"
   ]
  },
  {
   "cell_type": "code",
   "execution_count": 228,
   "metadata": {},
   "outputs": [
    {
     "data": {
      "text/plain": [
       "<selenium.webdriver.remote.webelement.WebElement (session=\"90f5991bc0608d1c5bd3e292d2928212\", element=\"c54df475-18a4-4b38-a927-a10fd901e171\")>"
      ]
     },
     "execution_count": 228,
     "metadata": {},
     "output_type": "execute_result"
    }
   ],
   "source": [
    "#By using id function going to extract the web element\n",
    "search_job=driver.find_element_by_id('qsb-keyword-sugg')\n",
    "search_job"
   ]
  },
  {
   "cell_type": "code",
   "execution_count": 229,
   "metadata": {},
   "outputs": [],
   "source": [
    "#Now going to write Data Sceintist over search engine of naukri.com\n",
    "search_job.send_keys(\"Data Scientist\")"
   ]
  },
  {
   "cell_type": "code",
   "execution_count": 230,
   "metadata": {},
   "outputs": [],
   "source": [
    "#finding the web element for job location bar using id function\n",
    "search_loc=driver.find_element_by_id(\"qsb-location-sugg\")\n",
    "search_loc.send_keys(\"Bangalore\")"
   ]
  },
  {
   "cell_type": "code",
   "execution_count": 231,
   "metadata": {},
   "outputs": [
    {
     "data": {
      "text/plain": [
       "<selenium.webdriver.remote.webelement.WebElement (session=\"90f5991bc0608d1c5bd3e292d2928212\", element=\"1a15a295-4728-4eb1-a9f2-0fd3bcfae53f\")>"
      ]
     },
     "execution_count": 231,
     "metadata": {},
     "output_type": "execute_result"
    }
   ],
   "source": [
    "#Now we have to do click search button using xpath function to get the web element\n",
    "search_btn=driver.find_element_by_xpath(\"//button[@class='btn']\")\n",
    "search_btn"
   ]
  },
  {
   "cell_type": "code",
   "execution_count": 232,
   "metadata": {},
   "outputs": [],
   "source": [
    "#clicking on search button\n",
    "search_btn.click()\n",
    "#once I run it i will be on the job opening page"
   ]
  },
  {
   "cell_type": "code",
   "execution_count": 234,
   "metadata": {},
   "outputs": [
    {
     "data": {
      "text/plain": [
       "[<selenium.webdriver.remote.webelement.WebElement (session=\"90f5991bc0608d1c5bd3e292d2928212\", element=\"2ea1d30e-e4c9-40f6-a77e-9721340be388\")>,\n",
       " <selenium.webdriver.remote.webelement.WebElement (session=\"90f5991bc0608d1c5bd3e292d2928212\", element=\"7a3d4aaf-77c7-43e4-9d0f-3d35ed54267d\")>,\n",
       " <selenium.webdriver.remote.webelement.WebElement (session=\"90f5991bc0608d1c5bd3e292d2928212\", element=\"80547daf-73b5-48b3-aa0b-13df69b7bf09\")>,\n",
       " <selenium.webdriver.remote.webelement.WebElement (session=\"90f5991bc0608d1c5bd3e292d2928212\", element=\"e30c0510-97a4-4f6c-87ce-55b330df73ce\")>,\n",
       " <selenium.webdriver.remote.webelement.WebElement (session=\"90f5991bc0608d1c5bd3e292d2928212\", element=\"663a1832-1141-4dd5-9af7-f02ddb540193\")>,\n",
       " <selenium.webdriver.remote.webelement.WebElement (session=\"90f5991bc0608d1c5bd3e292d2928212\", element=\"7cd549f5-d5c4-4b53-b5ec-1a45b50d07dd\")>,\n",
       " <selenium.webdriver.remote.webelement.WebElement (session=\"90f5991bc0608d1c5bd3e292d2928212\", element=\"d7a0809a-282b-4581-b612-b7020371f2fd\")>,\n",
       " <selenium.webdriver.remote.webelement.WebElement (session=\"90f5991bc0608d1c5bd3e292d2928212\", element=\"0f9e7855-c6cd-498e-8b72-1959df9fcd55\")>,\n",
       " <selenium.webdriver.remote.webelement.WebElement (session=\"90f5991bc0608d1c5bd3e292d2928212\", element=\"72a2788b-94bc-4052-b925-a25fc2ac0173\")>,\n",
       " <selenium.webdriver.remote.webelement.WebElement (session=\"90f5991bc0608d1c5bd3e292d2928212\", element=\"87659f8d-0770-4c2f-acdb-cf88d4feb258\")>,\n",
       " <selenium.webdriver.remote.webelement.WebElement (session=\"90f5991bc0608d1c5bd3e292d2928212\", element=\"eb846a82-c9af-4731-9207-5dae5e4668f4\")>,\n",
       " <selenium.webdriver.remote.webelement.WebElement (session=\"90f5991bc0608d1c5bd3e292d2928212\", element=\"d20d2d4d-1f0f-443b-9214-fc79b1ff1a5c\")>,\n",
       " <selenium.webdriver.remote.webelement.WebElement (session=\"90f5991bc0608d1c5bd3e292d2928212\", element=\"c2302224-400c-40e3-aec7-f8a2465ee6bb\")>,\n",
       " <selenium.webdriver.remote.webelement.WebElement (session=\"90f5991bc0608d1c5bd3e292d2928212\", element=\"52faf110-fdb3-4ddb-a50e-98ff073d7ac7\")>,\n",
       " <selenium.webdriver.remote.webelement.WebElement (session=\"90f5991bc0608d1c5bd3e292d2928212\", element=\"2fbfad83-4e98-49f1-8b96-1fdc184dbe4b\")>,\n",
       " <selenium.webdriver.remote.webelement.WebElement (session=\"90f5991bc0608d1c5bd3e292d2928212\", element=\"f080fa16-5d27-4996-b4bb-c5375a08a773\")>,\n",
       " <selenium.webdriver.remote.webelement.WebElement (session=\"90f5991bc0608d1c5bd3e292d2928212\", element=\"cfbdcf5b-e526-4fb5-abef-9c9c16702cef\")>,\n",
       " <selenium.webdriver.remote.webelement.WebElement (session=\"90f5991bc0608d1c5bd3e292d2928212\", element=\"bf6a920f-4b86-472a-a5e0-7704149929d7\")>,\n",
       " <selenium.webdriver.remote.webelement.WebElement (session=\"90f5991bc0608d1c5bd3e292d2928212\", element=\"4198541e-e1c8-4be1-9f0c-0fdf0bcc85bb\")>,\n",
       " <selenium.webdriver.remote.webelement.WebElement (session=\"90f5991bc0608d1c5bd3e292d2928212\", element=\"ff112df5-1367-47f4-80e0-4d9b0a27f752\")>]"
      ]
     },
     "execution_count": 234,
     "metadata": {},
     "output_type": "execute_result"
    }
   ],
   "source": [
    "#Now extracting all the tags having the job titles\n",
    "#And scrape the data for the first 10 jobs results you get.\n",
    "title_tags=driver.find_elements_by_xpath(\"//a[@class='title fw500 ellipsis']\")\n",
    "title_tags\n"
   ]
  },
  {
   "cell_type": "code",
   "execution_count": 237,
   "metadata": {},
   "outputs": [
    {
     "data": {
      "text/plain": [
       "['Senior Data Scientist',\n",
       " 'Data Scientist: Advanced Analytics',\n",
       " 'Senior Data Scientist',\n",
       " 'DATA SCIENTIST',\n",
       " 'Senior Data Scientist',\n",
       " 'Software Developer - Data Scientist / NLP / Machine Learning & Dot Net',\n",
       " 'Data scientist',\n",
       " 'Senior Data Scientist',\n",
       " 'Sr Data Scientist',\n",
       " 'Senior Data Scientist',\n",
       " 'Senior Data Scientist',\n",
       " 'Senior Data Scientist',\n",
       " 'Data Scientist - Permanent Role',\n",
       " 'Senior Data Scientist',\n",
       " 'Sr. Data Scientist / Tech Lead - Data Science',\n",
       " 'Senior Data Scientist',\n",
       " 'Lead Data Scientist - Tensorflow/Machine Learning',\n",
       " 'Associate Data Scientist',\n",
       " 'Data Engineers , Data Scientist and SAP',\n",
       " 'Senior Data & Applied Scientist']"
      ]
     },
     "execution_count": 237,
     "metadata": {},
     "output_type": "execute_result"
    }
   ],
   "source": [
    "#Now we will extract the text from these web elements one by one by looping over these.\n",
    "#Got the job titles\n",
    "job_titles=[]\n",
    "for i in title_tags:\n",
    "     job_titles.append(i.text) \n",
    "job_titles"
   ]
  },
  {
   "cell_type": "code",
   "execution_count": 238,
   "metadata": {},
   "outputs": [
    {
     "data": {
      "text/plain": [
       "[<selenium.webdriver.remote.webelement.WebElement (session=\"90f5991bc0608d1c5bd3e292d2928212\", element=\"ec964359-c2d8-41cf-a0f3-4649c0dc93d8\")>,\n",
       " <selenium.webdriver.remote.webelement.WebElement (session=\"90f5991bc0608d1c5bd3e292d2928212\", element=\"1e7a1159-cb33-4e40-a76a-14b65753ed6c\")>,\n",
       " <selenium.webdriver.remote.webelement.WebElement (session=\"90f5991bc0608d1c5bd3e292d2928212\", element=\"dcf9bc7a-2af5-47ea-acb3-7f3b979e4265\")>,\n",
       " <selenium.webdriver.remote.webelement.WebElement (session=\"90f5991bc0608d1c5bd3e292d2928212\", element=\"7572f17e-d7aa-4ae3-b4c4-ed88975f7847\")>,\n",
       " <selenium.webdriver.remote.webelement.WebElement (session=\"90f5991bc0608d1c5bd3e292d2928212\", element=\"149281b8-aaad-47a6-8275-47f7f05ac946\")>,\n",
       " <selenium.webdriver.remote.webelement.WebElement (session=\"90f5991bc0608d1c5bd3e292d2928212\", element=\"c6112345-05f0-42bc-89c4-9361996bb29b\")>,\n",
       " <selenium.webdriver.remote.webelement.WebElement (session=\"90f5991bc0608d1c5bd3e292d2928212\", element=\"4c300d3d-3077-4e38-b162-ec472cd18118\")>,\n",
       " <selenium.webdriver.remote.webelement.WebElement (session=\"90f5991bc0608d1c5bd3e292d2928212\", element=\"45d75d04-a483-4616-99d6-704d33901c95\")>,\n",
       " <selenium.webdriver.remote.webelement.WebElement (session=\"90f5991bc0608d1c5bd3e292d2928212\", element=\"5656d692-dbbc-465b-b072-dd9a07a57c05\")>,\n",
       " <selenium.webdriver.remote.webelement.WebElement (session=\"90f5991bc0608d1c5bd3e292d2928212\", element=\"3e3613bd-113a-45ed-af59-5dd8a411bf8f\")>,\n",
       " <selenium.webdriver.remote.webelement.WebElement (session=\"90f5991bc0608d1c5bd3e292d2928212\", element=\"cb81f808-a93e-4c01-95dc-330b27b180e3\")>,\n",
       " <selenium.webdriver.remote.webelement.WebElement (session=\"90f5991bc0608d1c5bd3e292d2928212\", element=\"d3d28741-9509-41bf-a135-f2de1623b747\")>,\n",
       " <selenium.webdriver.remote.webelement.WebElement (session=\"90f5991bc0608d1c5bd3e292d2928212\", element=\"6d981dde-a002-49e8-9b21-27b67cef1ba5\")>,\n",
       " <selenium.webdriver.remote.webelement.WebElement (session=\"90f5991bc0608d1c5bd3e292d2928212\", element=\"9ae03866-93b8-49de-94b3-5bc77e328439\")>,\n",
       " <selenium.webdriver.remote.webelement.WebElement (session=\"90f5991bc0608d1c5bd3e292d2928212\", element=\"b02ed7c9-506c-4ddf-81f3-1ef817e5af54\")>,\n",
       " <selenium.webdriver.remote.webelement.WebElement (session=\"90f5991bc0608d1c5bd3e292d2928212\", element=\"c27e12ef-4dbe-40f3-ae87-806819536a08\")>,\n",
       " <selenium.webdriver.remote.webelement.WebElement (session=\"90f5991bc0608d1c5bd3e292d2928212\", element=\"78c7f0bf-ff38-4ba3-a17d-28106f86019d\")>,\n",
       " <selenium.webdriver.remote.webelement.WebElement (session=\"90f5991bc0608d1c5bd3e292d2928212\", element=\"10a4cdc1-dd2c-439c-a8c9-718b49c51a9d\")>,\n",
       " <selenium.webdriver.remote.webelement.WebElement (session=\"90f5991bc0608d1c5bd3e292d2928212\", element=\"1a5087d0-afa2-4fb3-a3b8-43011645c746\")>,\n",
       " <selenium.webdriver.remote.webelement.WebElement (session=\"90f5991bc0608d1c5bd3e292d2928212\", element=\"391d0221-3c9e-444d-aef1-6573d3a1ed53\")>]"
      ]
     },
     "execution_count": 238,
     "metadata": {},
     "output_type": "execute_result"
    }
   ],
   "source": [
    "#Extracting all the html tags where we have the location of the job data\n",
    "location_tags=driver.find_elements_by_xpath(\"//li[@class='fleft grey-text br2 placeHolderLi location']//span[1]\")\n",
    "location_tags"
   ]
  },
  {
   "cell_type": "code",
   "execution_count": 239,
   "metadata": {},
   "outputs": [
    {
     "data": {
      "text/plain": [
       "['Bangalore/Bengaluru',\n",
       " 'Bangalore/Bengaluru',\n",
       " 'Bangalore/Bengaluru',\n",
       " 'Bangalore/Bengaluru',\n",
       " 'Bangalore/Bengaluru',\n",
       " 'Bangalore/Bengaluru',\n",
       " 'Bangalore/Bengaluru',\n",
       " 'Bangalore/Bengaluru',\n",
       " 'Bangalore/Bengaluru',\n",
       " 'Bangalore/Bengaluru',\n",
       " 'Bangalore/Bengaluru',\n",
       " 'New Delhi, Bangalore/Bengaluru, Delhi / NCR',\n",
       " 'Hyderabad/Secunderabad, Chennai, Bangalore/Bengaluru',\n",
       " 'Bangalore/Bengaluru',\n",
       " 'Bangalore/Bengaluru',\n",
       " 'Kochi/Cochin, Hyderabad/Secunderabad, Pune, Chennai, Delhi / NCR, Bangalore/Bengaluru',\n",
       " 'Mumbai, Hyderabad/Secunderabad, Chennai, Bangalore/Bengaluru',\n",
       " 'Bangalore/Bengaluru',\n",
       " 'Bangalore/Bengaluru',\n",
       " 'Bangalore/Bengaluru']"
      ]
     },
     "execution_count": 239,
     "metadata": {},
     "output_type": "execute_result"
    }
   ],
   "source": [
    "#Extracting text from the web elements\n",
    "locations_list=[]\n",
    "for i in location_tags:\n",
    "    locations_list.append(i.text)\n",
    "locations_list"
   ]
  },
  {
   "cell_type": "code",
   "execution_count": 240,
   "metadata": {},
   "outputs": [
    {
     "data": {
      "text/plain": [
       "[<selenium.webdriver.remote.webelement.WebElement (session=\"90f5991bc0608d1c5bd3e292d2928212\", element=\"31d64063-831e-4f6c-a1e7-83286c1f0a3b\")>,\n",
       " <selenium.webdriver.remote.webelement.WebElement (session=\"90f5991bc0608d1c5bd3e292d2928212\", element=\"a63b5b94-1218-42d5-8ee0-a5dc3c3c145c\")>,\n",
       " <selenium.webdriver.remote.webelement.WebElement (session=\"90f5991bc0608d1c5bd3e292d2928212\", element=\"9608c048-53db-4821-a737-f9beff0e2040\")>,\n",
       " <selenium.webdriver.remote.webelement.WebElement (session=\"90f5991bc0608d1c5bd3e292d2928212\", element=\"52b1cf18-825a-44db-93ac-033532b1bc4b\")>,\n",
       " <selenium.webdriver.remote.webelement.WebElement (session=\"90f5991bc0608d1c5bd3e292d2928212\", element=\"7e9811a3-74e6-46e4-b62d-195ec18f32ef\")>,\n",
       " <selenium.webdriver.remote.webelement.WebElement (session=\"90f5991bc0608d1c5bd3e292d2928212\", element=\"566a71bc-1af9-4dc5-9271-5e02b41818fc\")>,\n",
       " <selenium.webdriver.remote.webelement.WebElement (session=\"90f5991bc0608d1c5bd3e292d2928212\", element=\"7f62020f-dd12-495e-b534-f9a08b93fe0c\")>,\n",
       " <selenium.webdriver.remote.webelement.WebElement (session=\"90f5991bc0608d1c5bd3e292d2928212\", element=\"d0aec473-3e60-4728-a5f4-6dcec18b5b4c\")>,\n",
       " <selenium.webdriver.remote.webelement.WebElement (session=\"90f5991bc0608d1c5bd3e292d2928212\", element=\"a5b0193a-8ea5-4ac5-8e56-a415d627ef5c\")>,\n",
       " <selenium.webdriver.remote.webelement.WebElement (session=\"90f5991bc0608d1c5bd3e292d2928212\", element=\"2884983d-af74-47a6-a88b-e5a0e672e907\")>,\n",
       " <selenium.webdriver.remote.webelement.WebElement (session=\"90f5991bc0608d1c5bd3e292d2928212\", element=\"90d29a83-3f28-4a94-8e78-89b2633e334f\")>,\n",
       " <selenium.webdriver.remote.webelement.WebElement (session=\"90f5991bc0608d1c5bd3e292d2928212\", element=\"6392eec3-9c2b-4e1b-9254-17bc989e9b7a\")>,\n",
       " <selenium.webdriver.remote.webelement.WebElement (session=\"90f5991bc0608d1c5bd3e292d2928212\", element=\"be40749d-2423-4380-b602-831bac81ce61\")>,\n",
       " <selenium.webdriver.remote.webelement.WebElement (session=\"90f5991bc0608d1c5bd3e292d2928212\", element=\"a259c8a1-569c-4b5d-9734-30caf83c6668\")>,\n",
       " <selenium.webdriver.remote.webelement.WebElement (session=\"90f5991bc0608d1c5bd3e292d2928212\", element=\"fa0a9bff-de54-4a55-a724-61aae7714833\")>,\n",
       " <selenium.webdriver.remote.webelement.WebElement (session=\"90f5991bc0608d1c5bd3e292d2928212\", element=\"9d517953-f1c5-4627-8141-c525461f667c\")>,\n",
       " <selenium.webdriver.remote.webelement.WebElement (session=\"90f5991bc0608d1c5bd3e292d2928212\", element=\"79669a63-068d-41ab-b435-10bd2dd447fa\")>,\n",
       " <selenium.webdriver.remote.webelement.WebElement (session=\"90f5991bc0608d1c5bd3e292d2928212\", element=\"bcd4fffa-e363-4080-9e48-0e7eeb36700a\")>,\n",
       " <selenium.webdriver.remote.webelement.WebElement (session=\"90f5991bc0608d1c5bd3e292d2928212\", element=\"08c9b3ad-9599-4b21-8534-dbf5e5a9f628\")>,\n",
       " <selenium.webdriver.remote.webelement.WebElement (session=\"90f5991bc0608d1c5bd3e292d2928212\", element=\"f6a7e542-d0a8-4961-87b0-566f74358b88\")>]"
      ]
     },
     "execution_count": 240,
     "metadata": {},
     "output_type": "execute_result"
    }
   ],
   "source": [
    "#Extracting all the tags having the company names\n",
    "company_tags=driver.find_elements_by_xpath(\"//a[@class='subTitle ellipsis fleft']\")\n",
    "company_tags"
   ]
  },
  {
   "cell_type": "code",
   "execution_count": 241,
   "metadata": {},
   "outputs": [
    {
     "data": {
      "text/plain": [
       "['Philips India Limited',\n",
       " 'IBM India Pvt. Limited',\n",
       " 'SYMBIOSIS International W.L.L',\n",
       " 'McAfee Software (India) Pvt. Ltd',\n",
       " 'Datamatics Global Services Ltd',\n",
       " 'Cunesoft India Private Limited',\n",
       " 'Uber',\n",
       " 'IBM India Pvt. Limited',\n",
       " 'IBM India Pvt. Limited',\n",
       " 'Publicis Groupe',\n",
       " 'Bidgely Technologies Private Limited',\n",
       " 'Goals 101 Data Solutions Pvt. Ltd.',\n",
       " 'Onward Technologies Limited',\n",
       " 'RANDSTAD INDIA PVT LTD',\n",
       " 'Confidential',\n",
       " 'L A Consultancy',\n",
       " 'Getinz Techno Services',\n",
       " 'ExecBoardinAsia',\n",
       " 'Teamware Solutions',\n",
       " 'Microsoft Corporation']"
      ]
     },
     "execution_count": 241,
     "metadata": {},
     "output_type": "execute_result"
    }
   ],
   "source": [
    "#Extracting text from these tags\n",
    "company_names=[]\n",
    "for i in company_tags:\n",
    "    company_names.append(i.text)\n",
    "company_names"
   ]
  },
  {
   "cell_type": "code",
   "execution_count": 242,
   "metadata": {},
   "outputs": [
    {
     "data": {
      "text/plain": [
       "[<selenium.webdriver.remote.webelement.WebElement (session=\"90f5991bc0608d1c5bd3e292d2928212\", element=\"c74794e7-b500-4b69-8eab-7e25d8ab256c\")>,\n",
       " <selenium.webdriver.remote.webelement.WebElement (session=\"90f5991bc0608d1c5bd3e292d2928212\", element=\"8dd64347-c6c0-4f2e-ad83-910fcbf90bed\")>,\n",
       " <selenium.webdriver.remote.webelement.WebElement (session=\"90f5991bc0608d1c5bd3e292d2928212\", element=\"4bb679c8-fc05-4511-b452-a58779070e9a\")>,\n",
       " <selenium.webdriver.remote.webelement.WebElement (session=\"90f5991bc0608d1c5bd3e292d2928212\", element=\"6ad23f8c-f293-4903-8ce4-2e6f69723b3a\")>,\n",
       " <selenium.webdriver.remote.webelement.WebElement (session=\"90f5991bc0608d1c5bd3e292d2928212\", element=\"0aff7359-66e3-47f9-ab29-07748cda2580\")>,\n",
       " <selenium.webdriver.remote.webelement.WebElement (session=\"90f5991bc0608d1c5bd3e292d2928212\", element=\"af9aed2a-3b4e-4af4-9898-bfd7edfa0003\")>,\n",
       " <selenium.webdriver.remote.webelement.WebElement (session=\"90f5991bc0608d1c5bd3e292d2928212\", element=\"e9f7094c-6efc-4ff4-bc11-f9e00b01f880\")>,\n",
       " <selenium.webdriver.remote.webelement.WebElement (session=\"90f5991bc0608d1c5bd3e292d2928212\", element=\"864bd32f-3699-4a88-98ef-d2a0c91260d7\")>,\n",
       " <selenium.webdriver.remote.webelement.WebElement (session=\"90f5991bc0608d1c5bd3e292d2928212\", element=\"bfba2a13-717a-49ef-9967-4cfa7ff8769f\")>,\n",
       " <selenium.webdriver.remote.webelement.WebElement (session=\"90f5991bc0608d1c5bd3e292d2928212\", element=\"5aa0e476-8b67-4302-8464-f5732e80b64f\")>,\n",
       " <selenium.webdriver.remote.webelement.WebElement (session=\"90f5991bc0608d1c5bd3e292d2928212\", element=\"74296003-ffac-46f7-86bb-5090969d24eb\")>,\n",
       " <selenium.webdriver.remote.webelement.WebElement (session=\"90f5991bc0608d1c5bd3e292d2928212\", element=\"c361a24e-ff6a-491a-ab88-c96186e8c026\")>,\n",
       " <selenium.webdriver.remote.webelement.WebElement (session=\"90f5991bc0608d1c5bd3e292d2928212\", element=\"8b59d297-fe37-4ede-84d4-4208d6b04191\")>,\n",
       " <selenium.webdriver.remote.webelement.WebElement (session=\"90f5991bc0608d1c5bd3e292d2928212\", element=\"fbe98ea6-1e2f-4cf0-b79e-c5b3e57a65f6\")>,\n",
       " <selenium.webdriver.remote.webelement.WebElement (session=\"90f5991bc0608d1c5bd3e292d2928212\", element=\"1acdd103-13bf-4b6d-bc7b-14c237b1ef6f\")>,\n",
       " <selenium.webdriver.remote.webelement.WebElement (session=\"90f5991bc0608d1c5bd3e292d2928212\", element=\"41aa45f5-970d-4d56-9f33-6b2fd35d61f9\")>,\n",
       " <selenium.webdriver.remote.webelement.WebElement (session=\"90f5991bc0608d1c5bd3e292d2928212\", element=\"12811cab-80c3-4de9-8e3d-4fa130b656ce\")>,\n",
       " <selenium.webdriver.remote.webelement.WebElement (session=\"90f5991bc0608d1c5bd3e292d2928212\", element=\"58ce385d-dcd2-47ef-ab49-2c33beaec0d1\")>,\n",
       " <selenium.webdriver.remote.webelement.WebElement (session=\"90f5991bc0608d1c5bd3e292d2928212\", element=\"20341031-d526-44c3-bd7f-841c9d25a06c\")>,\n",
       " <selenium.webdriver.remote.webelement.WebElement (session=\"90f5991bc0608d1c5bd3e292d2928212\", element=\"a7eb31ce-0b9e-4736-bb82-32dceaad51c3\")>]"
      ]
     },
     "execution_count": 242,
     "metadata": {},
     "output_type": "execute_result"
    }
   ],
   "source": [
    "#Extracting all the html tags where we have the number of experience \n",
    "experience_tags=driver.find_elements_by_xpath(\"//li[@class='fleft grey-text br2 placeHolderLi experience']//span\")\n",
    "experience_tags"
   ]
  },
  {
   "cell_type": "code",
   "execution_count": 243,
   "metadata": {},
   "outputs": [
    {
     "data": {
      "text/plain": [
       "['8-10 Yrs',\n",
       " '5-10 Yrs',\n",
       " '10-15 Yrs',\n",
       " '4-8 Yrs',\n",
       " '8-13 Yrs',\n",
       " '3-8 Yrs',\n",
       " '6-8 Yrs',\n",
       " '5-10 Yrs',\n",
       " '8-12 Yrs',\n",
       " '2-5 Yrs',\n",
       " '4-6 Yrs',\n",
       " '4-8 Yrs',\n",
       " '6-11 Yrs',\n",
       " '4-9 Yrs',\n",
       " '6-9 Yrs',\n",
       " '5-9 Yrs',\n",
       " '7-10 Yrs',\n",
       " '5-10 Yrs',\n",
       " '7-10 Yrs',\n",
       " '3-5 Yrs']"
      ]
     },
     "execution_count": 243,
     "metadata": {},
     "output_type": "execute_result"
    }
   ],
   "source": [
    "#Extracting text from these tags\n",
    "experience_list=[]\n",
    "for i in experience_tags:\n",
    "    experience_list.append(i.text)\n",
    "experience_list"
   ]
  },
  {
   "cell_type": "code",
   "execution_count": 244,
   "metadata": {},
   "outputs": [
    {
     "name": "stdout",
     "output_type": "stream",
     "text": [
      "20 20 20 20\n"
     ]
    }
   ],
   "source": [
    "#printing lengths of texts\n",
    "print(len(job_titles),len(locations_list),len(company_names),len(experience_list))"
   ]
  },
  {
   "cell_type": "markdown",
   "metadata": {},
   "source": [
    "# Data Frame"
   ]
  },
  {
   "cell_type": "code",
   "execution_count": 245,
   "metadata": {},
   "outputs": [],
   "source": [
    "#import pandas as pd\n",
    "Data_Scientist=pd.DataFrame({})\n",
    "Data_Scientist['title']=job_titles\n",
    "Data_Scientist['company']=company_names\n",
    "Data_Scientist['experience_required']=experience_list\n",
    "Data_Scientist['location']=locations_list"
   ]
  },
  {
   "cell_type": "code",
   "execution_count": 246,
   "metadata": {},
   "outputs": [
    {
     "data": {
      "text/html": [
       "<div>\n",
       "<style scoped>\n",
       "    .dataframe tbody tr th:only-of-type {\n",
       "        vertical-align: middle;\n",
       "    }\n",
       "\n",
       "    .dataframe tbody tr th {\n",
       "        vertical-align: top;\n",
       "    }\n",
       "\n",
       "    .dataframe thead th {\n",
       "        text-align: right;\n",
       "    }\n",
       "</style>\n",
       "<table border=\"1\" class=\"dataframe\">\n",
       "  <thead>\n",
       "    <tr style=\"text-align: right;\">\n",
       "      <th></th>\n",
       "      <th>title</th>\n",
       "      <th>company</th>\n",
       "      <th>experience_required</th>\n",
       "      <th>location</th>\n",
       "    </tr>\n",
       "  </thead>\n",
       "  <tbody>\n",
       "    <tr>\n",
       "      <th>0</th>\n",
       "      <td>Senior Data Scientist</td>\n",
       "      <td>Philips India Limited</td>\n",
       "      <td>8-10 Yrs</td>\n",
       "      <td>Bangalore/Bengaluru</td>\n",
       "    </tr>\n",
       "    <tr>\n",
       "      <th>1</th>\n",
       "      <td>Data Scientist: Advanced Analytics</td>\n",
       "      <td>IBM India Pvt. Limited</td>\n",
       "      <td>5-10 Yrs</td>\n",
       "      <td>Bangalore/Bengaluru</td>\n",
       "    </tr>\n",
       "    <tr>\n",
       "      <th>2</th>\n",
       "      <td>Senior Data Scientist</td>\n",
       "      <td>SYMBIOSIS International W.L.L</td>\n",
       "      <td>10-15 Yrs</td>\n",
       "      <td>Bangalore/Bengaluru</td>\n",
       "    </tr>\n",
       "    <tr>\n",
       "      <th>3</th>\n",
       "      <td>DATA SCIENTIST</td>\n",
       "      <td>McAfee Software (India) Pvt. Ltd</td>\n",
       "      <td>4-8 Yrs</td>\n",
       "      <td>Bangalore/Bengaluru</td>\n",
       "    </tr>\n",
       "    <tr>\n",
       "      <th>4</th>\n",
       "      <td>Senior Data Scientist</td>\n",
       "      <td>Datamatics Global Services Ltd</td>\n",
       "      <td>8-13 Yrs</td>\n",
       "      <td>Bangalore/Bengaluru</td>\n",
       "    </tr>\n",
       "    <tr>\n",
       "      <th>5</th>\n",
       "      <td>Software Developer - Data Scientist / NLP / Ma...</td>\n",
       "      <td>Cunesoft India Private Limited</td>\n",
       "      <td>3-8 Yrs</td>\n",
       "      <td>Bangalore/Bengaluru</td>\n",
       "    </tr>\n",
       "    <tr>\n",
       "      <th>6</th>\n",
       "      <td>Data scientist</td>\n",
       "      <td>Uber</td>\n",
       "      <td>6-8 Yrs</td>\n",
       "      <td>Bangalore/Bengaluru</td>\n",
       "    </tr>\n",
       "    <tr>\n",
       "      <th>7</th>\n",
       "      <td>Senior Data Scientist</td>\n",
       "      <td>IBM India Pvt. Limited</td>\n",
       "      <td>5-10 Yrs</td>\n",
       "      <td>Bangalore/Bengaluru</td>\n",
       "    </tr>\n",
       "    <tr>\n",
       "      <th>8</th>\n",
       "      <td>Sr Data Scientist</td>\n",
       "      <td>IBM India Pvt. Limited</td>\n",
       "      <td>8-12 Yrs</td>\n",
       "      <td>Bangalore/Bengaluru</td>\n",
       "    </tr>\n",
       "    <tr>\n",
       "      <th>9</th>\n",
       "      <td>Senior Data Scientist</td>\n",
       "      <td>Publicis Groupe</td>\n",
       "      <td>2-5 Yrs</td>\n",
       "      <td>Bangalore/Bengaluru</td>\n",
       "    </tr>\n",
       "    <tr>\n",
       "      <th>10</th>\n",
       "      <td>Senior Data Scientist</td>\n",
       "      <td>Bidgely Technologies Private Limited</td>\n",
       "      <td>4-6 Yrs</td>\n",
       "      <td>Bangalore/Bengaluru</td>\n",
       "    </tr>\n",
       "    <tr>\n",
       "      <th>11</th>\n",
       "      <td>Senior Data Scientist</td>\n",
       "      <td>Goals 101 Data Solutions Pvt. Ltd.</td>\n",
       "      <td>4-8 Yrs</td>\n",
       "      <td>New Delhi, Bangalore/Bengaluru, Delhi / NCR</td>\n",
       "    </tr>\n",
       "    <tr>\n",
       "      <th>12</th>\n",
       "      <td>Data Scientist - Permanent Role</td>\n",
       "      <td>Onward Technologies Limited</td>\n",
       "      <td>6-11 Yrs</td>\n",
       "      <td>Hyderabad/Secunderabad, Chennai, Bangalore/Ben...</td>\n",
       "    </tr>\n",
       "    <tr>\n",
       "      <th>13</th>\n",
       "      <td>Senior Data Scientist</td>\n",
       "      <td>RANDSTAD INDIA PVT LTD</td>\n",
       "      <td>4-9 Yrs</td>\n",
       "      <td>Bangalore/Bengaluru</td>\n",
       "    </tr>\n",
       "    <tr>\n",
       "      <th>14</th>\n",
       "      <td>Sr. Data Scientist / Tech Lead - Data Science</td>\n",
       "      <td>Confidential</td>\n",
       "      <td>6-9 Yrs</td>\n",
       "      <td>Bangalore/Bengaluru</td>\n",
       "    </tr>\n",
       "    <tr>\n",
       "      <th>15</th>\n",
       "      <td>Senior Data Scientist</td>\n",
       "      <td>L A Consultancy</td>\n",
       "      <td>5-9 Yrs</td>\n",
       "      <td>Kochi/Cochin, Hyderabad/Secunderabad, Pune, Ch...</td>\n",
       "    </tr>\n",
       "    <tr>\n",
       "      <th>16</th>\n",
       "      <td>Lead Data Scientist - Tensorflow/Machine Learning</td>\n",
       "      <td>Getinz Techno Services</td>\n",
       "      <td>7-10 Yrs</td>\n",
       "      <td>Mumbai, Hyderabad/Secunderabad, Chennai, Banga...</td>\n",
       "    </tr>\n",
       "    <tr>\n",
       "      <th>17</th>\n",
       "      <td>Associate Data Scientist</td>\n",
       "      <td>ExecBoardinAsia</td>\n",
       "      <td>5-10 Yrs</td>\n",
       "      <td>Bangalore/Bengaluru</td>\n",
       "    </tr>\n",
       "    <tr>\n",
       "      <th>18</th>\n",
       "      <td>Data Engineers , Data Scientist and SAP</td>\n",
       "      <td>Teamware Solutions</td>\n",
       "      <td>7-10 Yrs</td>\n",
       "      <td>Bangalore/Bengaluru</td>\n",
       "    </tr>\n",
       "    <tr>\n",
       "      <th>19</th>\n",
       "      <td>Senior Data &amp; Applied Scientist</td>\n",
       "      <td>Microsoft Corporation</td>\n",
       "      <td>3-5 Yrs</td>\n",
       "      <td>Bangalore/Bengaluru</td>\n",
       "    </tr>\n",
       "  </tbody>\n",
       "</table>\n",
       "</div>"
      ],
      "text/plain": [
       "                                                title  \\\n",
       "0                               Senior Data Scientist   \n",
       "1                  Data Scientist: Advanced Analytics   \n",
       "2                               Senior Data Scientist   \n",
       "3                                      DATA SCIENTIST   \n",
       "4                               Senior Data Scientist   \n",
       "5   Software Developer - Data Scientist / NLP / Ma...   \n",
       "6                                      Data scientist   \n",
       "7                               Senior Data Scientist   \n",
       "8                                   Sr Data Scientist   \n",
       "9                               Senior Data Scientist   \n",
       "10                              Senior Data Scientist   \n",
       "11                              Senior Data Scientist   \n",
       "12                    Data Scientist - Permanent Role   \n",
       "13                              Senior Data Scientist   \n",
       "14      Sr. Data Scientist / Tech Lead - Data Science   \n",
       "15                              Senior Data Scientist   \n",
       "16  Lead Data Scientist - Tensorflow/Machine Learning   \n",
       "17                           Associate Data Scientist   \n",
       "18            Data Engineers , Data Scientist and SAP   \n",
       "19                    Senior Data & Applied Scientist   \n",
       "\n",
       "                                 company experience_required  \\\n",
       "0                  Philips India Limited            8-10 Yrs   \n",
       "1                 IBM India Pvt. Limited            5-10 Yrs   \n",
       "2          SYMBIOSIS International W.L.L           10-15 Yrs   \n",
       "3       McAfee Software (India) Pvt. Ltd             4-8 Yrs   \n",
       "4         Datamatics Global Services Ltd            8-13 Yrs   \n",
       "5         Cunesoft India Private Limited             3-8 Yrs   \n",
       "6                                   Uber             6-8 Yrs   \n",
       "7                 IBM India Pvt. Limited            5-10 Yrs   \n",
       "8                 IBM India Pvt. Limited            8-12 Yrs   \n",
       "9                        Publicis Groupe             2-5 Yrs   \n",
       "10  Bidgely Technologies Private Limited             4-6 Yrs   \n",
       "11    Goals 101 Data Solutions Pvt. Ltd.             4-8 Yrs   \n",
       "12           Onward Technologies Limited            6-11 Yrs   \n",
       "13                RANDSTAD INDIA PVT LTD             4-9 Yrs   \n",
       "14                          Confidential             6-9 Yrs   \n",
       "15                       L A Consultancy             5-9 Yrs   \n",
       "16                Getinz Techno Services            7-10 Yrs   \n",
       "17                       ExecBoardinAsia            5-10 Yrs   \n",
       "18                    Teamware Solutions            7-10 Yrs   \n",
       "19                 Microsoft Corporation             3-5 Yrs   \n",
       "\n",
       "                                             location  \n",
       "0                                 Bangalore/Bengaluru  \n",
       "1                                 Bangalore/Bengaluru  \n",
       "2                                 Bangalore/Bengaluru  \n",
       "3                                 Bangalore/Bengaluru  \n",
       "4                                 Bangalore/Bengaluru  \n",
       "5                                 Bangalore/Bengaluru  \n",
       "6                                 Bangalore/Bengaluru  \n",
       "7                                 Bangalore/Bengaluru  \n",
       "8                                 Bangalore/Bengaluru  \n",
       "9                                 Bangalore/Bengaluru  \n",
       "10                                Bangalore/Bengaluru  \n",
       "11        New Delhi, Bangalore/Bengaluru, Delhi / NCR  \n",
       "12  Hyderabad/Secunderabad, Chennai, Bangalore/Ben...  \n",
       "13                                Bangalore/Bengaluru  \n",
       "14                                Bangalore/Bengaluru  \n",
       "15  Kochi/Cochin, Hyderabad/Secunderabad, Pune, Ch...  \n",
       "16  Mumbai, Hyderabad/Secunderabad, Chennai, Banga...  \n",
       "17                                Bangalore/Bengaluru  \n",
       "18                                Bangalore/Bengaluru  \n",
       "19                                Bangalore/Bengaluru  "
      ]
     },
     "execution_count": 246,
     "metadata": {},
     "output_type": "execute_result"
    }
   ],
   "source": [
    "Data_Scientist"
   ]
  },
  {
   "cell_type": "code",
   "execution_count": 247,
   "metadata": {},
   "outputs": [
    {
     "data": {
      "text/html": [
       "<div>\n",
       "<style scoped>\n",
       "    .dataframe tbody tr th:only-of-type {\n",
       "        vertical-align: middle;\n",
       "    }\n",
       "\n",
       "    .dataframe tbody tr th {\n",
       "        vertical-align: top;\n",
       "    }\n",
       "\n",
       "    .dataframe thead th {\n",
       "        text-align: right;\n",
       "    }\n",
       "</style>\n",
       "<table border=\"1\" class=\"dataframe\">\n",
       "  <thead>\n",
       "    <tr style=\"text-align: right;\">\n",
       "      <th></th>\n",
       "      <th>title</th>\n",
       "      <th>company</th>\n",
       "      <th>experience_required</th>\n",
       "      <th>location</th>\n",
       "    </tr>\n",
       "  </thead>\n",
       "  <tbody>\n",
       "    <tr>\n",
       "      <th>0</th>\n",
       "      <td>Senior Data Scientist</td>\n",
       "      <td>Philips India Limited</td>\n",
       "      <td>8-10 Yrs</td>\n",
       "      <td>Bangalore/Bengaluru</td>\n",
       "    </tr>\n",
       "    <tr>\n",
       "      <th>1</th>\n",
       "      <td>Data Scientist: Advanced Analytics</td>\n",
       "      <td>IBM India Pvt. Limited</td>\n",
       "      <td>5-10 Yrs</td>\n",
       "      <td>Bangalore/Bengaluru</td>\n",
       "    </tr>\n",
       "    <tr>\n",
       "      <th>2</th>\n",
       "      <td>Senior Data Scientist</td>\n",
       "      <td>SYMBIOSIS International W.L.L</td>\n",
       "      <td>10-15 Yrs</td>\n",
       "      <td>Bangalore/Bengaluru</td>\n",
       "    </tr>\n",
       "    <tr>\n",
       "      <th>3</th>\n",
       "      <td>DATA SCIENTIST</td>\n",
       "      <td>McAfee Software (India) Pvt. Ltd</td>\n",
       "      <td>4-8 Yrs</td>\n",
       "      <td>Bangalore/Bengaluru</td>\n",
       "    </tr>\n",
       "    <tr>\n",
       "      <th>4</th>\n",
       "      <td>Senior Data Scientist</td>\n",
       "      <td>Datamatics Global Services Ltd</td>\n",
       "      <td>8-13 Yrs</td>\n",
       "      <td>Bangalore/Bengaluru</td>\n",
       "    </tr>\n",
       "    <tr>\n",
       "      <th>5</th>\n",
       "      <td>Software Developer - Data Scientist / NLP / Ma...</td>\n",
       "      <td>Cunesoft India Private Limited</td>\n",
       "      <td>3-8 Yrs</td>\n",
       "      <td>Bangalore/Bengaluru</td>\n",
       "    </tr>\n",
       "    <tr>\n",
       "      <th>6</th>\n",
       "      <td>Data scientist</td>\n",
       "      <td>Uber</td>\n",
       "      <td>6-8 Yrs</td>\n",
       "      <td>Bangalore/Bengaluru</td>\n",
       "    </tr>\n",
       "    <tr>\n",
       "      <th>7</th>\n",
       "      <td>Senior Data Scientist</td>\n",
       "      <td>IBM India Pvt. Limited</td>\n",
       "      <td>5-10 Yrs</td>\n",
       "      <td>Bangalore/Bengaluru</td>\n",
       "    </tr>\n",
       "    <tr>\n",
       "      <th>8</th>\n",
       "      <td>Sr Data Scientist</td>\n",
       "      <td>IBM India Pvt. Limited</td>\n",
       "      <td>8-12 Yrs</td>\n",
       "      <td>Bangalore/Bengaluru</td>\n",
       "    </tr>\n",
       "    <tr>\n",
       "      <th>9</th>\n",
       "      <td>Senior Data Scientist</td>\n",
       "      <td>Publicis Groupe</td>\n",
       "      <td>2-5 Yrs</td>\n",
       "      <td>Bangalore/Bengaluru</td>\n",
       "    </tr>\n",
       "  </tbody>\n",
       "</table>\n",
       "</div>"
      ],
      "text/plain": [
       "                                               title  \\\n",
       "0                              Senior Data Scientist   \n",
       "1                 Data Scientist: Advanced Analytics   \n",
       "2                              Senior Data Scientist   \n",
       "3                                     DATA SCIENTIST   \n",
       "4                              Senior Data Scientist   \n",
       "5  Software Developer - Data Scientist / NLP / Ma...   \n",
       "6                                     Data scientist   \n",
       "7                              Senior Data Scientist   \n",
       "8                                  Sr Data Scientist   \n",
       "9                              Senior Data Scientist   \n",
       "\n",
       "                            company experience_required             location  \n",
       "0             Philips India Limited            8-10 Yrs  Bangalore/Bengaluru  \n",
       "1            IBM India Pvt. Limited            5-10 Yrs  Bangalore/Bengaluru  \n",
       "2     SYMBIOSIS International W.L.L           10-15 Yrs  Bangalore/Bengaluru  \n",
       "3  McAfee Software (India) Pvt. Ltd             4-8 Yrs  Bangalore/Bengaluru  \n",
       "4    Datamatics Global Services Ltd            8-13 Yrs  Bangalore/Bengaluru  \n",
       "5    Cunesoft India Private Limited             3-8 Yrs  Bangalore/Bengaluru  \n",
       "6                              Uber             6-8 Yrs  Bangalore/Bengaluru  \n",
       "7            IBM India Pvt. Limited            5-10 Yrs  Bangalore/Bengaluru  \n",
       "8            IBM India Pvt. Limited            8-12 Yrs  Bangalore/Bengaluru  \n",
       "9                   Publicis Groupe             2-5 Yrs  Bangalore/Bengaluru  "
      ]
     },
     "execution_count": 247,
     "metadata": {},
     "output_type": "execute_result"
    }
   ],
   "source": [
    "df=pd.DataFrame(Data_Scientist)\n",
    "df=df.iloc[0:10]\n",
    "df"
   ]
  },
  {
   "cell_type": "markdown",
   "metadata": {},
   "source": [
    "# Solution 3- Scraping data using the filters available on the webpage"
   ]
  },
  {
   "cell_type": "code",
   "execution_count": 44,
   "metadata": {},
   "outputs": [],
   "source": [
    "#importing all the required libraries\n",
    "from selenium import webdriver\n",
    "import os\n",
    "import pandas as pd\n",
    "from time import sleep\n",
    "import time \n",
    "import warnings\n",
    "warnings.filterwarnings(\"ignore\")"
   ]
  },
  {
   "cell_type": "code",
   "execution_count": 45,
   "metadata": {},
   "outputs": [],
   "source": [
    "#Lets first connect to the webdriver\n",
    "driver= webdriver.Chrome( \"chromedriver.exe \")"
   ]
  },
  {
   "cell_type": "code",
   "execution_count": 46,
   "metadata": {},
   "outputs": [],
   "source": [
    "#For scraping data from naukri.com\n",
    "url='https://www.naukri.com/'\n",
    "driver.get(url)"
   ]
  },
  {
   "cell_type": "code",
   "execution_count": null,
   "metadata": {},
   "outputs": [],
   "source": [
    "#By using id function going to extract the web element\n",
    "search_job=driver.find_element_by_id('qsb-keyword-sugg')\n",
    "search_job"
   ]
  },
  {
   "cell_type": "markdown",
   "metadata": {},
   "source": [
    "#Now going to write Data Sceintist over search engine of naukri.com\n",
    "search_job.send_keys(\"Data Scientist\")"
   ]
  },
  {
   "cell_type": "markdown",
   "metadata": {},
   "source": [
    "#Now we have to do click search button using xpath function to get the web element\n",
    "search_btn=driver.find_element_by_xpath(\"//button[@class='btn']\")\n",
    "search_btn"
   ]
  },
  {
   "cell_type": "markdown",
   "metadata": {},
   "source": [
    "#clicking on search button\n",
    "search_btn.click()\n",
    "#once I run it i will be on the job opening page"
   ]
  },
  {
   "cell_type": "code",
   "execution_count": 36,
   "metadata": {},
   "outputs": [
    {
     "data": {
      "text/html": [
       "<div>\n",
       "<style scoped>\n",
       "    .dataframe tbody tr th:only-of-type {\n",
       "        vertical-align: middle;\n",
       "    }\n",
       "\n",
       "    .dataframe tbody tr th {\n",
       "        vertical-align: top;\n",
       "    }\n",
       "\n",
       "    .dataframe thead th {\n",
       "        text-align: right;\n",
       "    }\n",
       "</style>\n",
       "<table border=\"1\" class=\"dataframe\">\n",
       "  <thead>\n",
       "    <tr style=\"text-align: right;\">\n",
       "      <th></th>\n",
       "      <th>Job Title</th>\n",
       "      <th>Company Name</th>\n",
       "      <th>Location</th>\n",
       "      <th>Experience</th>\n",
       "    </tr>\n",
       "  </thead>\n",
       "  <tbody>\n",
       "    <tr>\n",
       "      <th>0</th>\n",
       "      <td>Data Scientist</td>\n",
       "      <td>Agreeya</td>\n",
       "      <td>Noida, Gurgaon/Gurugram, Delhi / NCR</td>\n",
       "      <td>3-6 Yrs</td>\n",
       "    </tr>\n",
       "    <tr>\n",
       "      <th>1</th>\n",
       "      <td>Data Scientist Internship</td>\n",
       "      <td>iHackers Inc</td>\n",
       "      <td>New Delhi</td>\n",
       "      <td>0-1 Yrs</td>\n",
       "    </tr>\n",
       "    <tr>\n",
       "      <th>2</th>\n",
       "      <td>Data Scientist</td>\n",
       "      <td>CBRE South Asia Pvt Ltd</td>\n",
       "      <td>Gurgaon/Gurugram</td>\n",
       "      <td>2-4 Yrs</td>\n",
       "    </tr>\n",
       "    <tr>\n",
       "      <th>3</th>\n",
       "      <td>Senior Data Scientist - Noida</td>\n",
       "      <td>Optum Global Solutions (India) Private Limited</td>\n",
       "      <td>Noida</td>\n",
       "      <td>2-6 Yrs</td>\n",
       "    </tr>\n",
       "    <tr>\n",
       "      <th>4</th>\n",
       "      <td>Data Scientist / Sr. Data Scientist</td>\n",
       "      <td>WEGARNER SOLUTIONS PRIVATE LIMITED</td>\n",
       "      <td>Noida, Pune, Mumbai (All Areas)</td>\n",
       "      <td>0-5 Yrs</td>\n",
       "    </tr>\n",
       "    <tr>\n",
       "      <th>5</th>\n",
       "      <td>Only Fresher / Data Scientist / Data Analyst /...</td>\n",
       "      <td>GABA Consultancy services</td>\n",
       "      <td>Noida, Gurgaon/Gurugram, Delhi / NCR</td>\n",
       "      <td>0-0 Yrs</td>\n",
       "    </tr>\n",
       "    <tr>\n",
       "      <th>6</th>\n",
       "      <td>Immediate Openings For DATA Scientist with 6 T...</td>\n",
       "      <td>Entune IT Consulting Private Limited</td>\n",
       "      <td>Kolkata, Hyderabad/Secunderabad, Pune, Ahmedab...</td>\n",
       "      <td>5-8 Yrs</td>\n",
       "    </tr>\n",
       "    <tr>\n",
       "      <th>7</th>\n",
       "      <td>Data Scientist</td>\n",
       "      <td>Decimal Technologies Pvt Ltd.</td>\n",
       "      <td>(WFH during Covid)</td>\n",
       "      <td>1-3 Yrs</td>\n",
       "    </tr>\n",
       "    <tr>\n",
       "      <th>8</th>\n",
       "      <td>Data Scientist</td>\n",
       "      <td>R Systems International Ltd.</td>\n",
       "      <td>Gurgaon/Gurugram</td>\n",
       "      <td>5-10 Yrs</td>\n",
       "    </tr>\n",
       "    <tr>\n",
       "      <th>9</th>\n",
       "      <td>Data Scientist - Machine Learning/NLP</td>\n",
       "      <td>TalPro</td>\n",
       "      <td>Noida(Sector-59 Noida)</td>\n",
       "      <td>2-6 Yrs</td>\n",
       "    </tr>\n",
       "  </tbody>\n",
       "</table>\n",
       "</div>"
      ],
      "text/plain": [
       "                                           Job Title  \\\n",
       "0                                     Data Scientist   \n",
       "1                          Data Scientist Internship   \n",
       "2                                     Data Scientist   \n",
       "3                      Senior Data Scientist - Noida   \n",
       "4                Data Scientist / Sr. Data Scientist   \n",
       "5  Only Fresher / Data Scientist / Data Analyst /...   \n",
       "6  Immediate Openings For DATA Scientist with 6 T...   \n",
       "7                                     Data Scientist   \n",
       "8                                     Data Scientist   \n",
       "9              Data Scientist - Machine Learning/NLP   \n",
       "\n",
       "                                     Company Name  \\\n",
       "0                                         Agreeya   \n",
       "1                                    iHackers Inc   \n",
       "2                         CBRE South Asia Pvt Ltd   \n",
       "3  Optum Global Solutions (India) Private Limited   \n",
       "4              WEGARNER SOLUTIONS PRIVATE LIMITED   \n",
       "5                       GABA Consultancy services   \n",
       "6            Entune IT Consulting Private Limited   \n",
       "7                   Decimal Technologies Pvt Ltd.   \n",
       "8                    R Systems International Ltd.   \n",
       "9                                          TalPro   \n",
       "\n",
       "                                            Location Experience  \n",
       "0               Noida, Gurgaon/Gurugram, Delhi / NCR    3-6 Yrs  \n",
       "1                                          New Delhi    0-1 Yrs  \n",
       "2                                   Gurgaon/Gurugram    2-4 Yrs  \n",
       "3                                              Noida    2-6 Yrs  \n",
       "4                    Noida, Pune, Mumbai (All Areas)    0-5 Yrs  \n",
       "5               Noida, Gurgaon/Gurugram, Delhi / NCR    0-0 Yrs  \n",
       "6  Kolkata, Hyderabad/Secunderabad, Pune, Ahmedab...    5-8 Yrs  \n",
       "7                                 (WFH during Covid)    1-3 Yrs  \n",
       "8                                   Gurgaon/Gurugram   5-10 Yrs  \n",
       "9                             Noida(Sector-59 Noida)    2-6 Yrs  "
      ]
     },
     "execution_count": 36,
     "metadata": {},
     "output_type": "execute_result"
    }
   ],
   "source": [
    "path = r\"C:\\Users\\Femina\\Downloads\\chromedriver_win32\\chromedriver.exe\"\n",
    "\n",
    "driver=webdriver.Chrome(path)\n",
    "my_page=driver.get('https://www.naukri.com/')\n",
    "\n",
    "Job_Title = []\n",
    "Location = []\n",
    "Company_Name = []\n",
    "Experience_Required = []\n",
    "\n",
    "time.sleep(4)\n",
    "driver.switch_to_window(driver.window_handles[1])\n",
    "driver.close()\n",
    "time.sleep(5)\n",
    "driver.switch_to_window(driver.window_handles[1])\n",
    "driver.close()\n",
    "time.sleep(5)\n",
    "driver.switch_to_window(driver.window_handles[0])\n",
    "time.sleep(5)\n",
    "Task2 =driver.find_element_by_xpath(\"//span[@class='fr geoLocBtn later']\")\n",
    "Task2.click()\n",
    "time.sleep(5)\n",
    "Task3=driver.find_element_by_xpath(\"//div[@class='privacyPolicy']/div//button\")\n",
    "Task3.click()\n",
    "time.sleep(3)\n",
    "Task4=driver.find_element_by_xpath(\"//div[@class='inpWrap']/input\")\n",
    "Task4.send_keys('Data Scientist')\n",
    "time.sleep(3)\n",
    "Task5=driver.find_element_by_xpath(\"//div[@class='suggestor-location']//input\")\n",
    "Task5.send_keys('Delhi/NCR')\n",
    "time.sleep(3)\n",
    "Task6=driver.find_element_by_xpath(\"//div[@class='qsb-main-content row']//button\")\n",
    "Task6.click()\n",
    "time.sleep(5)\n",
    "Task7=driver.find_element_by_xpath(\"//span[@title ='3-6 Lakhs']\")\n",
    "Task7.click()\n",
    "time.sleep(5)\n",
    "#Extracting Job Title data \n",
    "Task8 = driver.find_elements_by_xpath(\"//div[@class='jobTupleHeader']/div/a\")\n",
    "for aa in Task8:\n",
    "    bb  = aa.text\n",
    "    Job_Title.append(bb)\n",
    "    \n",
    "Job_Title = pd.DataFrame(Job_Title)\n",
    "Job_Title = Job_Title.rename({ 0 : 'Job Title'} , axis = 1 )\n",
    "\n",
    "\n",
    "time.sleep(5)\n",
    "\n",
    "# Extracting  company name \n",
    "Task9 = driver.find_elements_by_xpath(\"//div[@class='mt-7 companyInfo subheading lh16']/a[1]\")\n",
    "\n",
    "for cc in Task9:\n",
    "    kk = cc.text\n",
    "    Company_Name.append(kk)\n",
    "Company_Name\n",
    "\n",
    "Company_Name = pd.DataFrame(Company_Name)\n",
    "Company_Name= Company_Name.rename({0 : 'Company Name'}, axis=1  )\n",
    "\n",
    "time.sleep(5)\n",
    "\n",
    "# Extracting  Location Data\n",
    "Task10 = driver.find_elements_by_xpath(\"//li[@class='fleft grey-text br2 placeHolderLi location']//span\")\n",
    "for jj in Task10:\n",
    "    vv = jj.text\n",
    "    Location.append(vv)\n",
    "Location[0:5]\n",
    "\n",
    "Location =pd.DataFrame(Location)\n",
    "Location=Location.rename( columns = { 0 : 'Location'} )\n",
    "\n",
    "time.sleep(5)\n",
    "\n",
    "# Extracting  Experience required data \n",
    "Task11= driver.find_elements_by_xpath(\"//li[@class='fleft grey-text br2 placeHolderLi experience']//span\")\n",
    "for pp in Task11:\n",
    "    g = pp.text\n",
    "    Experience_Required.append(g)\n",
    "    \n",
    "Experience_Required = pd.DataFrame(Experience_Required)\n",
    "Experience_Required  = Experience_Required.rename(columns = { 0 : 'Experience'})\n",
    "\n",
    "\n",
    "#Extracting Final Data \n",
    "Naukri_Jobs = pd.concat([Job_Title,Company_Name,Location ,Experience_Required ] ,axis=1)\n",
    "Naukri_Jobs3 =Naukri_Jobs.iloc[0:10]\n",
    "Naukri_Jobs3"
   ]
  },
  {
   "cell_type": "code",
   "execution_count": null,
   "metadata": {},
   "outputs": [],
   "source": []
  },
  {
   "cell_type": "code",
   "execution_count": null,
   "metadata": {},
   "outputs": [],
   "source": []
  },
  {
   "cell_type": "markdown",
   "metadata": {},
   "source": [
    "# Solution 4- A Python program to scrape data for first 10 job results for Data scientist Designation in Noida Location From Glassdoor"
   ]
  },
  {
   "cell_type": "code",
   "execution_count": 122,
   "metadata": {},
   "outputs": [],
   "source": [
    "import pandas as pd\n",
    "from selenium import webdriver\n",
    "from time import sleep\n",
    "import time \n",
    "import warnings\n",
    "warnings.filterwarnings(\"ignore\")\n",
    "\n",
    "import numpy as np\n",
    "import pandas as pd\n",
    "from  selenium import webdriver\n",
    "from time import sleep\n",
    "import warnings\n",
    "warnings.filterwarnings('ignore')\n",
    "import time\n",
    "import string\n",
    "from selenium.common.exceptions import StaleElementReferenceException, NoSuchElementException\n",
    "\n",
    "path =r\"C:\\Users\\Femina\\Downloads\\chromedriver_win32\\chromedriver.exe\"\n",
    "driver=webdriver.Chrome(path)\n",
    "my_page=driver.get('https://www.glassdoor.co.in/index.htm')\n",
    "\n",
    "\n",
    "\n",
    "Company_Name = []\n",
    "Job_Posting_Days = []\n",
    "Rating = []\n"
   ]
  },
  {
   "cell_type": "code",
   "execution_count": 123,
   "metadata": {},
   "outputs": [],
   "source": [
    "time.sleep(5)\n",
    "Task2=driver.find_element_by_xpath(\"//button[@class='d-none d-lg-block p-0 LockedHomeHeaderStyles__signInButton']\")\n",
    "Task2.click()\n"
   ]
  },
  {
   "cell_type": "code",
   "execution_count": 124,
   "metadata": {},
   "outputs": [],
   "source": [
    "\n",
    "time.sleep(5)\n",
    "time.sleep(5)\n",
    "Task2=driver.find_element_by_xpath(\"//div[@class='minh-modal d-flex flex-column justify-content-between fullHeight mw-400']/div/div/div[3]//div[1]//input\")\n",
    "Task2.send_keys('susmita09@gmail.com')\n",
    "time.sleep(5)\n",
    "Task3=driver.find_element_by_xpath(\"//div[@class='minh-modal d-flex flex-column justify-content-between fullHeight mw-400']/div/div/div[3]//div[2]//input\")\n",
    "Task3.send_keys('xyz12345')\n",
    "time.sleep(5)\n",
    "Task4=driver.find_element_by_xpath(\"//button[@class='gd-ui-button minWidthBtn css-8i7bc2']\")\n",
    "Task4.click()\n",
    "time.sleep(5)\n",
    "Task5 = driver.find_element_by_xpath(\"//div/div[@class='col headerSearchInput css-1ohf0ui']/div[@class='input-wrapper css-q444d9'][1]/input[1]\")\n",
    "Task5.send_keys('Data Scientist')\n",
    "time.sleep(5)\n",
    "Task6 = driver.find_element_by_xpath(\"//div[@class='ml-xsm col-4 p-0 headerSearchInput search__SearchStyles__searchBarLocationInput css-1ohf0ui']/div/input\")\n",
    "Task6.send_keys('Noida')\n",
    "time.sleep(5)\n",
    "Task7 =driver.find_element_by_xpath(\"//span[@class='css-8zxfjs']/span\")\n",
    "Task7.click()\n",
    "time.sleep(5)"
   ]
  },
  {
   "cell_type": "code",
   "execution_count": 125,
   "metadata": {},
   "outputs": [],
   "source": [
    "# Extracting  No of Days job posted data \n",
    "Task8 = driver.find_elements_by_xpath(\"//div[@class='d-flex align-items-end pl-std css-mi55ob']\")\n",
    "\n",
    "for hy in Task8[0:10]:\n",
    "    se = hy.text\n",
    "    Job_Posting_Days.append(se)\n",
    "    \n",
    "Job_Posting_Days1 = pd.DataFrame(Job_Posting_Days)\n",
    "Days_Posted =Job_Posting_Days1.rename(columns = { 0 : 'Days Posted'})"
   ]
  },
  {
   "cell_type": "code",
   "execution_count": 126,
   "metadata": {},
   "outputs": [],
   "source": [
    "Task9 = driver.find_elements_by_xpath(\"//div[@class='d-flex justify-content-between align-items-start']/a/span\")\n",
    "\n",
    "for hy in Task9[0:10]:\n",
    "    se = hy.text\n",
    "    Company_Name.append(se)\n",
    "    \n",
    "Company_Name1 = pd.DataFrame(Company_Name)\n",
    "Company_Name1 =Company_Name1.rename(columns = { 0 : 'Company Name'})"
   ]
  },
  {
   "cell_type": "code",
   "execution_count": 128,
   "metadata": {},
   "outputs": [
    {
     "data": {
      "text/html": [
       "<div>\n",
       "<style scoped>\n",
       "    .dataframe tbody tr th:only-of-type {\n",
       "        vertical-align: middle;\n",
       "    }\n",
       "\n",
       "    .dataframe tbody tr th {\n",
       "        vertical-align: top;\n",
       "    }\n",
       "\n",
       "    .dataframe thead th {\n",
       "        text-align: right;\n",
       "    }\n",
       "</style>\n",
       "<table border=\"1\" class=\"dataframe\">\n",
       "  <thead>\n",
       "    <tr style=\"text-align: right;\">\n",
       "      <th></th>\n",
       "      <th>Company Name</th>\n",
       "    </tr>\n",
       "  </thead>\n",
       "  <tbody>\n",
       "    <tr>\n",
       "      <th>0</th>\n",
       "      <td>Applied Materials Inc.</td>\n",
       "    </tr>\n",
       "    <tr>\n",
       "      <th>1</th>\n",
       "      <td>Talent Shiksha</td>\n",
       "    </tr>\n",
       "    <tr>\n",
       "      <th>2</th>\n",
       "      <td>Slice</td>\n",
       "    </tr>\n",
       "    <tr>\n",
       "      <th>3</th>\n",
       "      <td>Data Trained Education</td>\n",
       "    </tr>\n",
       "    <tr>\n",
       "      <th>4</th>\n",
       "      <td>Bizgaze Limited</td>\n",
       "    </tr>\n",
       "    <tr>\n",
       "      <th>5</th>\n",
       "      <td>NatWest Group</td>\n",
       "    </tr>\n",
       "    <tr>\n",
       "      <th>6</th>\n",
       "      <td>Liberin Technologies Private Limited</td>\n",
       "    </tr>\n",
       "    <tr>\n",
       "      <th>7</th>\n",
       "      <td>Lericon infomatic pvt.ltd</td>\n",
       "    </tr>\n",
       "    <tr>\n",
       "      <th>8</th>\n",
       "      <td>Aliqan Technologies</td>\n",
       "    </tr>\n",
       "    <tr>\n",
       "      <th>9</th>\n",
       "      <td>OXO Solutions</td>\n",
       "    </tr>\n",
       "  </tbody>\n",
       "</table>\n",
       "</div>"
      ],
      "text/plain": [
       "                           Company Name\n",
       "0                Applied Materials Inc.\n",
       "1                        Talent Shiksha\n",
       "2                                 Slice\n",
       "3                Data Trained Education\n",
       "4                       Bizgaze Limited\n",
       "5                         NatWest Group\n",
       "6  Liberin Technologies Private Limited\n",
       "7             Lericon infomatic pvt.ltd\n",
       "8                   Aliqan Technologies\n",
       "9                         OXO Solutions"
      ]
     },
     "execution_count": 128,
     "metadata": {},
     "output_type": "execute_result"
    }
   ],
   "source": [
    "Company_Name1"
   ]
  },
  {
   "cell_type": "code",
   "execution_count": 129,
   "metadata": {},
   "outputs": [],
   "source": [
    "urls1=[i.get_attribute(\"href\")for i in driver.find_elements_by_xpath(\"//a[@class='jobLink css-1rd3saf eigr9kq2']\")]\n",
    "for url1 in urls1[0:10]:\n",
    "    driver.get(url1)\n",
    "    time.sleep(5)\n",
    "\n",
    "\n",
    "    try:\n",
    "        Task2 = driver.find_element_by_xpath(\"//span[@class='css-1pmc6te e11nt52q4']\").text\n",
    "    \n",
    "        Rating.append(Task2)\n",
    "    except NoSuchElementException: \n",
    "        Rating.append('No Rating')\n"
   ]
  },
  {
   "cell_type": "code",
   "execution_count": 139,
   "metadata": {},
   "outputs": [],
   "source": [
    "Rating4 = []"
   ]
  },
  {
   "cell_type": "code",
   "execution_count": 140,
   "metadata": {},
   "outputs": [],
   "source": [
    "for i  in Rating:\n",
    "    g= i.replace('\\n★','')\n",
    "    Rating4.append(g)"
   ]
  },
  {
   "cell_type": "code",
   "execution_count": 142,
   "metadata": {},
   "outputs": [],
   "source": [
    "Rating4 = pd.DataFrame(Rating4)\n",
    "Rating4 =Rating4.rename(columns = { 0 : 'Rating'})"
   ]
  },
  {
   "cell_type": "code",
   "execution_count": 144,
   "metadata": {},
   "outputs": [
    {
     "data": {
      "text/html": [
       "<div>\n",
       "<style scoped>\n",
       "    .dataframe tbody tr th:only-of-type {\n",
       "        vertical-align: middle;\n",
       "    }\n",
       "\n",
       "    .dataframe tbody tr th {\n",
       "        vertical-align: top;\n",
       "    }\n",
       "\n",
       "    .dataframe thead th {\n",
       "        text-align: right;\n",
       "    }\n",
       "</style>\n",
       "<table border=\"1\" class=\"dataframe\">\n",
       "  <thead>\n",
       "    <tr style=\"text-align: right;\">\n",
       "      <th></th>\n",
       "      <th>Company Name</th>\n",
       "      <th>Days Posted</th>\n",
       "      <th>Rating</th>\n",
       "    </tr>\n",
       "  </thead>\n",
       "  <tbody>\n",
       "    <tr>\n",
       "      <th>0</th>\n",
       "      <td>Applied Materials Inc.</td>\n",
       "      <td>30d+</td>\n",
       "      <td>4.0</td>\n",
       "    </tr>\n",
       "    <tr>\n",
       "      <th>1</th>\n",
       "      <td>Talent Shiksha</td>\n",
       "      <td>5d</td>\n",
       "      <td>No Rating</td>\n",
       "    </tr>\n",
       "    <tr>\n",
       "      <th>2</th>\n",
       "      <td>Slice</td>\n",
       "      <td>3d</td>\n",
       "      <td>3.4</td>\n",
       "    </tr>\n",
       "    <tr>\n",
       "      <th>3</th>\n",
       "      <td>Data Trained Education</td>\n",
       "      <td>2d</td>\n",
       "      <td>No Rating</td>\n",
       "    </tr>\n",
       "    <tr>\n",
       "      <th>4</th>\n",
       "      <td>Bizgaze Limited</td>\n",
       "      <td>1d</td>\n",
       "      <td>No Rating</td>\n",
       "    </tr>\n",
       "    <tr>\n",
       "      <th>5</th>\n",
       "      <td>NatWest Group</td>\n",
       "      <td>6d</td>\n",
       "      <td>3.9</td>\n",
       "    </tr>\n",
       "    <tr>\n",
       "      <th>6</th>\n",
       "      <td>Liberin Technologies Private Limited</td>\n",
       "      <td>29d</td>\n",
       "      <td>No Rating</td>\n",
       "    </tr>\n",
       "    <tr>\n",
       "      <th>7</th>\n",
       "      <td>Lericon infomatic pvt.ltd</td>\n",
       "      <td>24h</td>\n",
       "      <td>No Rating</td>\n",
       "    </tr>\n",
       "    <tr>\n",
       "      <th>8</th>\n",
       "      <td>Aliqan Technologies</td>\n",
       "      <td>7d</td>\n",
       "      <td>No Rating</td>\n",
       "    </tr>\n",
       "    <tr>\n",
       "      <th>9</th>\n",
       "      <td>OXO Solutions</td>\n",
       "      <td>16d</td>\n",
       "      <td>5.0</td>\n",
       "    </tr>\n",
       "  </tbody>\n",
       "</table>\n",
       "</div>"
      ],
      "text/plain": [
       "                           Company Name Days Posted     Rating\n",
       "0                Applied Materials Inc.        30d+        4.0\n",
       "1                        Talent Shiksha          5d  No Rating\n",
       "2                                 Slice          3d        3.4\n",
       "3                Data Trained Education          2d  No Rating\n",
       "4                       Bizgaze Limited          1d  No Rating\n",
       "5                         NatWest Group          6d        3.9\n",
       "6  Liberin Technologies Private Limited         29d  No Rating\n",
       "7             Lericon infomatic pvt.ltd         24h  No Rating\n",
       "8                   Aliqan Technologies          7d  No Rating\n",
       "9                         OXO Solutions         16d        5.0"
      ]
     },
     "execution_count": 144,
     "metadata": {},
     "output_type": "execute_result"
    }
   ],
   "source": [
    "Data_Scientist_Glassdoor  = pd.concat([Company_Name1 ,Days_Posted1 , Rating4] , axis=1)\n",
    "Data_Scientist_Glassdoor"
   ]
  },
  {
   "cell_type": "code",
   "execution_count": null,
   "metadata": {},
   "outputs": [],
   "source": []
  },
  {
   "cell_type": "code",
   "execution_count": 146,
   "metadata": {},
   "outputs": [],
   "source": []
  },
  {
   "cell_type": "code",
   "execution_count": null,
   "metadata": {},
   "outputs": [],
   "source": []
  }
 ],
 "metadata": {
  "kernelspec": {
   "display_name": "Python 3",
   "language": "python",
   "name": "python3"
  },
  "language_info": {
   "codemirror_mode": {
    "name": "ipython",
    "version": 3
   },
   "file_extension": ".py",
   "mimetype": "text/x-python",
   "name": "python",
   "nbconvert_exporter": "python",
   "pygments_lexer": "ipython3",
   "version": "3.7.6"
  }
 },
 "nbformat": 4,
 "nbformat_minor": 4
}
